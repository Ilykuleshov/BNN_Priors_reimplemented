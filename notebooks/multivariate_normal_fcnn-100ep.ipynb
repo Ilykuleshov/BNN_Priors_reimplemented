{
 "cells": [
  {
   "cell_type": "code",
   "execution_count": 1,
   "id": "d7466234",
   "metadata": {},
   "outputs": [
    {
     "name": "stdout",
     "output_type": "stream",
     "text": [
      "env: CUDA_VISIBLE_DEVICES=1\n"
     ]
    }
   ],
   "source": [
    "%env CUDA_VISIBLE_DEVICES=1"
   ]
  },
  {
   "cell_type": "code",
   "execution_count": 2,
   "id": "4af6efd8",
   "metadata": {},
   "outputs": [],
   "source": [
    "import numpy as np\n",
    "\n",
    "import torch\n",
    "import torch.nn as nn\n",
    "import torch.optim as optim\n",
    "import torchvision\n",
    "from matplotlib import pyplot as plt\n",
    "from tqdm import trange\n",
    "from torch.distributions.normal import Normal\n",
    "from bnn import BayesBaseModule, BayesConv2d, BayesLinear, BayesModel, FCNN\n",
    "from torch.distributions.laplace import Laplace\n",
    "from pathlib import Path"
   ]
  },
  {
   "cell_type": "code",
   "execution_count": 3,
   "id": "cefb8e1c",
   "metadata": {},
   "outputs": [],
   "source": [
    "distr = Normal(torch.tensor(0.), torch.tensor(0.05))"
   ]
  },
  {
   "cell_type": "code",
   "execution_count": 4,
   "id": "aa84c110",
   "metadata": {},
   "outputs": [],
   "source": [
    "mdl = FCNN(weight_distribution = distr,\n",
    "                 bias_distribution = distr)"
   ]
  },
  {
   "cell_type": "code",
   "execution_count": 5,
   "id": "e146f895",
   "metadata": {},
   "outputs": [],
   "source": [
    "dataset = torchvision.datasets.MNIST('./files/', train=True, download=True,\n",
    "                             transform=torchvision.transforms.Compose([\n",
    "                               torchvision.transforms.ToTensor(),\n",
    "                               torchvision.transforms.Normalize(\n",
    "                                 (0.1307,), (0.3081,))\n",
    "                             ]))\n",
    "train_set, val_set = torch.utils.data.random_split(dataset, [50000, 10000])"
   ]
  },
  {
   "cell_type": "markdown",
   "id": "fee9c032",
   "metadata": {},
   "source": [
    "## Train"
   ]
  },
  {
   "cell_type": "code",
   "execution_count": null,
   "id": "a78c4c9b",
   "metadata": {},
   "outputs": [
    {
     "name": "stderr",
     "output_type": "stream",
     "text": [
      "100%|█████████████████████████████████████| 1000/1000 [3:26:13<00:00, 12.37s/it]\n",
      "100%|█████████████████████████████████████| 1000/1000 [3:11:06<00:00, 11.47s/it]\n",
      "100%|█████████████████████████████████████| 1000/1000 [3:11:30<00:00, 11.49s/it]\n",
      " 40%|██████████████▎                     | 397/1000 [1:17:06<1:58:09, 11.76s/it]"
     ]
    }
   ],
   "source": [
    "temperatures = [1, 5e-1, 1e-1, 5e-2, 1e-2, 5e-3, 1e-3]\n",
    "errors = np.zeros(len(temperatures))\n",
    "distr = Normal(torch.tensor(0.), torch.tensor(0.05))\n",
    "n_epochs = 100\n",
    "\n",
    "for i, temperature in enumerate(temperatures[4:]):\n",
    "    mdl = FCNN(weight_distribution = distr, bias_distribution = distr)\n",
    "    trainer = BayesModel(train_dataset=train_set,\n",
    "                    test_dataset=val_set,\n",
    "                    batch_size=128,\n",
    "                    architecture=mdl,\n",
    "                    lr=1e-3,\n",
    "                    temperature=temperature)\n",
    "    trainer.fit(n_epochs = 1000, log_dir='./runs/long_fcnn_normal_{temp:.3f}'.format(temp=temperature))\n",
    "    model_save_path = Path('./models/long_fcnn_normal_{temp:.3f}/'.format(temp=temperature))\n",
    "    model_save_path.mkdir(exist_ok = True, parents = True)\n",
    "    torch.save(trainer.architecture.state_dict(), model_save_path / 'model.pth')"
   ]
  },
  {
   "cell_type": "code",
   "execution_count": null,
   "id": "425bb5cb",
   "metadata": {},
   "outputs": [],
   "source": [
    "print(1)"
   ]
  },
  {
   "cell_type": "code",
   "execution_count": 10,
   "id": "9c0046df",
   "metadata": {},
   "outputs": [
    {
     "name": "stderr",
     "output_type": "stream",
     "text": [
      "100%|██████████████████████████████████████████████████████████████████████████████████████████████████████████████████████████████████████████████████████████████████| 430/430 [1:24:21<00:00, 11.77s/it]\n"
     ]
    }
   ],
   "source": [
    "trainer.fit(n_epochs = 430, log_dir='./runs/cont_long_fcnn_normal_{temp:.3f}'.format(temp=temperature))\n",
    "model_save_path = Path('./models/long_fcnn_normal_{temp:.3f}/'.format(temp=temperature))\n",
    "model_save_path.mkdir(exist_ok = True, parents = True)\n",
    "torch.save(trainer.architecture.state_dict(), model_save_path / 'model.pth')"
   ]
  },
  {
   "cell_type": "code",
   "execution_count": 9,
   "id": "863ea251",
   "metadata": {},
   "outputs": [
    {
     "data": {
      "text/plain": [
       "0.05"
      ]
     },
     "execution_count": 9,
     "metadata": {},
     "output_type": "execute_result"
    }
   ],
   "source": [
    "temperature"
   ]
  },
  {
   "cell_type": "code",
   "execution_count": null,
   "id": "239277d5",
   "metadata": {},
   "outputs": [],
   "source": []
  }
 ],
 "metadata": {
  "kernelspec": {
   "display_name": "Python 3 (ipykernel)",
   "language": "python",
   "name": "python3"
  },
  "language_info": {
   "codemirror_mode": {
    "name": "ipython",
    "version": 3
   },
   "file_extension": ".py",
   "mimetype": "text/x-python",
   "name": "python",
   "nbconvert_exporter": "python",
   "pygments_lexer": "ipython3",
   "version": "3.9.13"
  }
 },
 "nbformat": 4,
 "nbformat_minor": 5
}
