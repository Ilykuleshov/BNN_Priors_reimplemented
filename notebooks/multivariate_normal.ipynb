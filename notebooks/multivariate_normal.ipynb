{
 "cells": [
  {
   "cell_type": "code",
   "execution_count": 1,
   "id": "bca47dbc",
   "metadata": {},
   "outputs": [
    {
     "name": "stdout",
     "output_type": "stream",
     "text": [
      "env: CUDA_VISIBLE_DEVICES=1\n"
     ]
    }
   ],
   "source": [
    "%env CUDA_VISIBLE_DEVICES=1"
   ]
  },
  {
   "cell_type": "code",
   "execution_count": 11,
   "id": "83830c3f",
   "metadata": {},
   "outputs": [],
   "source": [
    "import numpy as np\n",
    "\n",
    "import torch\n",
    "import torch.nn as nn\n",
    "import torch.optim as optim\n",
    "import torchvision\n",
    "from matplotlib import pyplot as plt\n",
    "from tqdm import trange\n",
    "from torch.distributions.normal import Normal\n",
    "from bnn import BayesBaseModule, BayesConv2d, BayesLinear, BayesModel, CNN, FCNN\n",
    "from pathlib import Path"
   ]
  },
  {
   "cell_type": "markdown",
   "id": "9a897215",
   "metadata": {},
   "source": [
    "## Distributions"
   ]
  },
  {
   "cell_type": "code",
   "execution_count": 3,
   "id": "7bb7e846",
   "metadata": {},
   "outputs": [],
   "source": [
    "distr = Normal(torch.tensor(0.), torch.tensor(0.05))"
   ]
  },
  {
   "cell_type": "markdown",
   "id": "c754c3f4",
   "metadata": {},
   "source": [
    "## Dataset"
   ]
  },
  {
   "cell_type": "code",
   "execution_count": 4,
   "id": "fc2a8576",
   "metadata": {},
   "outputs": [],
   "source": [
    "dataset = torchvision.datasets.MNIST('./files/', train=True, download=True,\n",
    "                             transform=torchvision.transforms.Compose([\n",
    "                               torchvision.transforms.ToTensor(),\n",
    "                               torchvision.transforms.Normalize(\n",
    "                                 (0.1307,), (0.3081,))\n",
    "                             ]))\n",
    "generator=torch.Generator()\n",
    "generator.manual_seed(42)\n",
    "train_set, val_set = torch.utils.data.random_split(dataset, [50000, 10000])"
   ]
  },
  {
   "cell_type": "markdown",
   "id": "bd87af27",
   "metadata": {},
   "source": [
    "## Train"
   ]
  },
  {
   "cell_type": "markdown",
   "id": "9cfd6a53",
   "metadata": {},
   "source": [
    "### Multivariate Normal"
   ]
  },
  {
   "cell_type": "code",
   "execution_count": 20,
   "id": "7a57281f",
   "metadata": {},
   "outputs": [
    {
     "name": "stderr",
     "output_type": "stream",
     "text": [
      "100%|█████████████████████████████████████████| 100/100 [17:45<00:00, 10.66s/it]\n",
      "100%|█████████████████████████████████████████| 100/100 [20:30<00:00, 12.31s/it]\n",
      "100%|█████████████████████████████████████████| 100/100 [21:57<00:00, 13.18s/it]\n",
      "100%|█████████████████████████████████████████| 100/100 [22:03<00:00, 13.23s/it]\n",
      "100%|█████████████████████████████████████████| 100/100 [21:17<00:00, 12.77s/it]\n",
      "100%|█████████████████████████████████████████| 100/100 [22:17<00:00, 13.38s/it]\n"
     ]
    }
   ],
   "source": [
    "temperatures = [1, 5e-1, 1e-1, 5e-2, 1e-2, 5e-3, 1e-3]\n",
    "errors = np.zeros(len(temperatures))\n",
    "distr = Normal(torch.tensor(0.), torch.tensor(0.05))\n",
    "n_epochs = 100\n",
    "\n",
    "for i, temperature in enumerate(temperatures[1:]):\n",
    "    mdl = CNN(weight_distribution = distr, bias_distribution = distr)\n",
    "    trainer = BayesModel(train_dataset=train_set,\n",
    "                    test_dataset=val_set,\n",
    "                    batch_size=128,\n",
    "                    architecture=mdl,\n",
    "                    lr=1e-3,\n",
    "                    temperature=temperature)\n",
    "    trainer.fit(n_epochs = 100, log_dir='./runs/cnn_normal_{temp:.3f}'.format(temp=temperature))\n",
    "    model_save_path = Path('./models/cnn_normal_{temp:.3f}/'.format(temp=temperature))\n",
    "    model_save_path.mkdir(exist_ok = True, parents = True)\n",
    "    torch.save(trainer.architecture.state_dict(), model_save_path / 'model.pth')"
   ]
  },
  {
   "cell_type": "code",
   "execution_count": null,
   "id": "e68cc29f",
   "metadata": {},
   "outputs": [],
   "source": []
  }
 ],
 "metadata": {
  "kernelspec": {
   "display_name": "Python 3 (ipykernel)",
   "language": "python",
   "name": "python3"
  },
  "language_info": {
   "codemirror_mode": {
    "name": "ipython",
    "version": 3
   },
   "file_extension": ".py",
   "mimetype": "text/x-python",
   "name": "python",
   "nbconvert_exporter": "python",
   "pygments_lexer": "ipython3",
   "version": "3.9.13"
  },
  "vscode": {
   "interpreter": {
    "hash": "5b0fbc5f22f7071972b866504fce4eb3a150ae9903c6cd85f368e76c2ade1186"
   }
  }
 },
 "nbformat": 4,
 "nbformat_minor": 5
}
