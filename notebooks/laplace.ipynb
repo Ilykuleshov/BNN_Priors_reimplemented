{
 "cells": [
  {
   "cell_type": "code",
   "execution_count": 1,
   "id": "83830c3f",
   "metadata": {},
   "outputs": [],
   "source": [
    "import numpy as np\n",
    "\n",
    "import torch\n",
    "import torch.nn as nn\n",
    "import torch.optim as optim\n",
    "import torchvision\n",
    "from matplotlib import pyplot as plt\n",
    "from tqdm import trange\n",
    "from torch.distributions.normal import Normal\n",
    "from bnn import BayesBaseModule, BayesConv2d, BayesLinear, BayesModel\n",
    "from bnn.models import CNN, FCNN\n",
    "from torch.distributions.laplace import Laplace\n",
    "from torch.utils.data import random_split\n",
    "from pathlib import Path"
   ]
  },
  {
   "cell_type": "markdown",
   "id": "c754c3f4",
   "metadata": {},
   "source": [
    "## Dataset"
   ]
  },
  {
   "cell_type": "code",
   "execution_count": 2,
   "id": "fc2a8576",
   "metadata": {},
   "outputs": [],
   "source": [
    "dataset = torchvision.datasets.MNIST('./files/', train=True, download=True,\n",
    "                             transform=torchvision.transforms.Compose([\n",
    "                               torchvision.transforms.ToTensor(),\n",
    "                               torchvision.transforms.Normalize(\n",
    "                                 (0.1307,), (0.3081,))\n",
    "                             ]))\n",
    "\n",
    "generator=torch.Generator()\n",
    "generator.manual_seed(42)\n",
    "train_set, val_set = random_split(dataset, [50000, 10000], generator=generator)"
   ]
  },
  {
   "cell_type": "markdown",
   "id": "bd87af27",
   "metadata": {},
   "source": [
    "## Train"
   ]
  },
  {
   "cell_type": "code",
   "execution_count": 3,
   "id": "7bb7e846",
   "metadata": {},
   "outputs": [
    {
     "name": "stderr",
     "output_type": "stream",
     "text": [
      "100%|██████████| 100/100 [11:56<00:00,  7.16s/it]\n",
      "100%|██████████| 100/100 [11:46<00:00,  7.06s/it]\n",
      "100%|██████████| 100/100 [11:02<00:00,  6.62s/it]\n",
      "100%|██████████| 100/100 [10:57<00:00,  6.57s/it]\n",
      "100%|██████████| 100/100 [11:01<00:00,  6.62s/it]\n",
      "100%|██████████| 100/100 [11:10<00:00,  6.70s/it]\n",
      "100%|██████████| 100/100 [11:04<00:00,  6.64s/it]\n",
      " 23%|██▎       | 23/100 [02:33<08:28,  6.60s/it]"
     ]
    }
   ],
   "source": [
    "distr = Laplace(torch.tensor(0.), torch.tensor(.05))\n",
    "get_mdl = lambda: (CNN(weight_distribution=distr, bias_distribution=distr), 'cnn')\n",
    "temperatures = [1, 5e-1, 1e-1, 5e-2, 1e-2, 5e-3, 1e-3]\n",
    "results = []\n",
    "\n",
    "run_dir = Path('./runs/')\n",
    "model_dir = Path('./models/')\n",
    "\n",
    "for get_mdl in (lambda: (CNN(weight_distribution=distr, bias_distribution=distr), 'cnn'), lambda: (FCNN(weight_distribution=distr, bias_distribution=distr), 'linear')):\n",
    "    for i, temperature in enumerate(temperatures):\n",
    "        mdl, name = get_mdl()\n",
    "\n",
    "        exp_name = f'{name}_laplace_{temperature}'\n",
    "\n",
    "        model_save_path = model_dir / exp_name\n",
    "        run_save_path = run_dir / exp_name\n",
    "\n",
    "        model_save_path.mkdir(exist_ok=True, parents=True)\n",
    "        run_save_path.mkdir(exist_ok=True, parents=True)\n",
    "\n",
    "        trainer = BayesModel(train_dataset=train_set,\n",
    "                        test_dataset=val_set,\n",
    "                        batch_size=128,\n",
    "                        architecture=mdl,\n",
    "                        lr=1e-3,\n",
    "                        temperature=temperature)\n",
    "\n",
    "        trainer.fit(n_epochs=100, log_dir=str(run_save_path))\n",
    "        results.append(trainer.evaluate())\n",
    "\n",
    "        torch.save(trainer.architecture.state_dict(), model_save_path / 'model.pth')"
   ]
  },
  {
   "cell_type": "code",
   "execution_count": null,
   "id": "c7886d24",
   "metadata": {},
   "outputs": [],
   "source": [
    "distr = Laplace(torch.tensor(0.), torch.tensor(.05))\n",
    "get_mdl = lambda: (CNN(weight_distribution=distr, bias_distribution=distr), 'cnn')\n",
    "temperatures = [1, 5e-1, 1e-1, 5e-2, 1e-2, 5e-3, 1e-3]\n",
    "results_long = []\n",
    "\n",
    "run_dir = Path('./runs/')\n",
    "model_dir = Path('./models/')\n",
    "\n",
    "for get_mdl in (lambda: (CNN(weight_distribution=distr, bias_distribution=distr), 'cnn'), lambda: (FCNN(weight_distribution=distr, bias_distribution=distr), 'linear')):\n",
    "    for i, temperature in enumerate(temperatures):\n",
    "        mdl, name = get_mdl()\n",
    "\n",
    "        exp_name = f'long_{name}_laplace_{temperature}'\n",
    "\n",
    "        model_save_path = model_dir / exp_name\n",
    "        run_save_path = run_dir / exp_name\n",
    "\n",
    "        model_save_path.mkdir(exist_ok=True, parents=True)\n",
    "        run_save_path.mkdir(exist_ok=True, parents=True)\n",
    "\n",
    "        trainer = BayesModel(train_dataset=train_set,\n",
    "                        test_dataset=val_set,\n",
    "                        batch_size=128,\n",
    "                        architecture=mdl,\n",
    "                        lr=1e-3,\n",
    "                        temperature=temperature)\n",
    "\n",
    "        trainer.fit(n_epochs=1000, log_dir=str(run_save_path))\n",
    "        results_long.append(trainer.evaluate())\n",
    "\n",
    "        torch.save(trainer.architecture.state_dict(), model_save_path / 'model.pth')"
   ]
  },
  {
   "cell_type": "code",
   "execution_count": null,
   "id": "0621fecb",
   "metadata": {},
   "outputs": [],
   "source": [
    "import json\n",
    "\n",
    "with open()"
   ]
  }
 ],
 "metadata": {
  "kernelspec": {
   "display_name": "Python 3 (ipykernel)",
   "language": "python",
   "name": "python3"
  },
  "language_info": {
   "codemirror_mode": {
    "name": "ipython",
    "version": 3
   },
   "file_extension": ".py",
   "mimetype": "text/x-python",
   "name": "python",
   "nbconvert_exporter": "python",
   "pygments_lexer": "ipython3",
   "version": "3.9.12"
  },
  "vscode": {
   "interpreter": {
    "hash": "5b0fbc5f22f7071972b866504fce4eb3a150ae9903c6cd85f368e76c2ade1186"
   }
  }
 },
 "nbformat": 4,
 "nbformat_minor": 5
}
