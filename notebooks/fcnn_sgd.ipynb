{
 "cells": [
  {
   "cell_type": "code",
   "execution_count": 1,
   "id": "6a4b0b90",
   "metadata": {},
   "outputs": [
    {
     "name": "stdout",
     "output_type": "stream",
     "text": [
      "env: CUDA_VISIBLE_DEVICES=1\n"
     ]
    },
    {
     "name": "stderr",
     "output_type": "stream",
     "text": [
      "100%|████████████████████████████████████████████████████████████████████████████████████████████████████████████████████████████████████████████████████████████████████| 150/150 [22:56<00:00,  9.17s/it]\n"
     ]
    }
   ],
   "source": [
    "%env CUDA_VISIBLE_DEVICES=1\n",
    "\n",
    "import numpy as np\n",
    "\n",
    "import torch\n",
    "import torch.nn as nn\n",
    "import torch.optim as optim\n",
    "import torchvision\n",
    "from matplotlib import pyplot as plt\n",
    "from tqdm import trange\n",
    "from torch.distributions.normal import Normal\n",
    "from torch.distributions.laplace import Laplace\n",
    "from torch.utils.tensorboard import SummaryWriter\n",
    "from torch.utils.data import Dataset, DataLoader\n",
    "\n",
    "class Model(nn.Module):\n",
    "    def __init__(self):\n",
    "        super().__init__()\n",
    "        self.fc_0 = nn.Linear(in_features = 28*28, out_features=100)\n",
    "        self.fc_1 = nn.Linear(in_features = 100, out_features=100)\n",
    "        self.fc_2 = nn.Linear(in_features = 100, out_features=10)\n",
    "        self.relu = nn.ReLU()\n",
    "\n",
    "    def forward(self, x):\n",
    "        x = x.view(-1, 28 * 28)\n",
    "        x = self.relu(self.fc_0(x))\n",
    "        x = self.relu(self.fc_1(x))\n",
    "        x = self.fc_2(x)\n",
    "        return x\n",
    "        \n",
    "mdl = Model()\n",
    "\n",
    "dataset = torchvision.datasets.MNIST('./files/', train=True, download=True,\n",
    "                             transform=torchvision.transforms.Compose([\n",
    "                               torchvision.transforms.ToTensor(),\n",
    "                               torchvision.transforms.Normalize(\n",
    "                                 (0.1307,), (0.3081,))\n",
    "                             ]))\n",
    "train_set, val_set = torch.utils.data.random_split(dataset, [50000, 10000])\n",
    "\n",
    "train_dataloader = DataLoader(train_set, batch_size = 128, shuffle=True)\n",
    "test_dataloader = DataLoader(val_set, batch_size = 1000, shuffle=True)\n",
    "\n",
    "cross_entropy = nn.CrossEntropyLoss()\n",
    "optimizer = torch.optim.Adam(mdl.parameters(), lr = 0.01)\n",
    "scheduler = torch.optim.lr_scheduler.CosineAnnealingLR(optimizer, T_max = 600, eta_min=0, last_epoch=- 1, verbose=False)\n",
    "\n",
    "n_epochs = 150\n",
    "device = 'cuda'\n",
    "\n",
    "log_dir = '/homes/abazarova/bnn/notebooks/runs/sgd_fcnn_150ep'\n",
    "writer = SummaryWriter(log_dir=log_dir)\n",
    "mdl = mdl.to(device)\n",
    "for i in trange(n_epochs):\n",
    "    total_loss = 0\n",
    "    for (x, y) in iter(train_dataloader):\n",
    "        optimizer.zero_grad()\n",
    "        x = x.to(device)\n",
    "        y = y.to(device)\n",
    "        y_pred = mdl(x)\n",
    "        loss = cross_entropy(y_pred, y)\n",
    "        total_loss += loss\n",
    "        loss.backward()\n",
    "        optimizer.step()\n",
    "        scheduler.step()\n",
    "    writer.add_scalar('Loss/train', total_loss / (len(train_dataloader)), i)\n",
    "    if i % 15 == 0:\n",
    "        mdl.eval()\n",
    "        with torch.no_grad():\n",
    "            total_loss = 0\n",
    "            accuracy = 0\n",
    "            for (x, y) in iter(test_dataloader):\n",
    "                x = x.to(device)\n",
    "                y = y.to(device)\n",
    "                y_pred = mdl(x)\n",
    "                loss_test = cross_entropy(y_pred, y)   \n",
    "                total_loss += loss_test\n",
    "                accuracy += (torch.argmax(y_pred, dim = -1) == y).sum() / len(y)\n",
    "            writer.add_scalar('Loss/test', total_loss / len(test_dataloader), i)\n",
    "            writer.add_scalar('Accuracy/test', accuracy / len(test_dataloader), i)\n",
    "        mdl.train()\n"
   ]
  },
  {
   "cell_type": "code",
   "execution_count": 3,
   "id": "d773b8ce",
   "metadata": {},
   "outputs": [],
   "source": [
    "from pathlib import Path        \n",
    "model_save_path = Path('/homes/abazarova/bnn/notebooks/models/fcnn_sgd/')\n",
    "model_save_path.mkdir(exist_ok = True, parents = True)\n",
    "torch.save(mdl.state_dict(), model_save_path / 'model.pth')"
   ]
  },
  {
   "cell_type": "code",
   "execution_count": null,
   "id": "ea53eb29",
   "metadata": {},
   "outputs": [],
   "source": [
    "model = mdl()."
   ]
  }
 ],
 "metadata": {
  "kernelspec": {
   "display_name": "Python 3 (ipykernel)",
   "language": "python",
   "name": "python3"
  },
  "language_info": {
   "codemirror_mode": {
    "name": "ipython",
    "version": 3
   },
   "file_extension": ".py",
   "mimetype": "text/x-python",
   "name": "python",
   "nbconvert_exporter": "python",
   "pygments_lexer": "ipython3",
   "version": "3.9.13"
  }
 },
 "nbformat": 4,
 "nbformat_minor": 5
}
