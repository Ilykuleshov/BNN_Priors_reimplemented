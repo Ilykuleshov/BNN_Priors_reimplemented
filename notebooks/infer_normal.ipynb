{
 "cells": [
  {
   "cell_type": "code",
   "execution_count": 2,
   "metadata": {},
   "outputs": [],
   "source": [
    "from bnn.inference import score_model, avg_over_runs\n",
    "from bnn.utils import trainer_default_kwargs\n",
    "from pathlib import Path\n",
    "from tqdm import trange"
   ]
  },
  {
   "cell_type": "code",
   "execution_count": 4,
   "metadata": {},
   "outputs": [
    {
     "name": "stderr",
     "output_type": "stream",
     "text": [
      "100%|██████████| 10/10 [01:11<00:00,  7.19s/it]\n",
      "100%|██████████| 10/10 [01:09<00:00,  6.94s/it]\n",
      "100%|██████████| 10/10 [01:09<00:00,  6.99s/it]\n",
      "100%|██████████| 10/10 [01:09<00:00,  6.91s/it]\n",
      "100%|██████████| 10/10 [01:11<00:00,  7.11s/it]\n",
      "100%|██████████| 10/10 [01:11<00:00,  7.13s/it]\n",
      "100%|██████████| 10/10 [01:11<00:00,  7.14s/it]\n",
      "100%|██████████| 10/10 [01:11<00:00,  7.20s/it]\n",
      "100%|██████████| 10/10 [01:10<00:00,  7.02s/it]\n",
      "100%|██████████| 10/10 [01:09<00:00,  6.98s/it]\n",
      "100%|██████████| 10/10 [11:59<00:00, 71.93s/it]\n"
     ]
    },
    {
     "name": "stdout",
     "output_type": "stream",
     "text": [
      "t=1 => 0.0173+-0.00029\n"
     ]
    },
    {
     "name": "stderr",
     "output_type": "stream",
     "text": [
      "100%|██████████| 10/10 [01:11<00:00,  7.14s/it]\n",
      "100%|██████████| 10/10 [01:10<00:00,  7.09s/it]\n",
      "100%|██████████| 10/10 [01:10<00:00,  7.06s/it]\n",
      "100%|██████████| 10/10 [01:11<00:00,  7.15s/it]\n",
      "100%|██████████| 10/10 [01:10<00:00,  7.08s/it]\n",
      "100%|██████████| 10/10 [01:09<00:00,  6.97s/it]\n",
      "100%|██████████| 10/10 [01:11<00:00,  7.11s/it]\n",
      "100%|██████████| 10/10 [01:11<00:00,  7.14s/it]\n",
      "100%|██████████| 10/10 [01:09<00:00,  7.00s/it]\n",
      "100%|██████████| 10/10 [01:12<00:00,  7.22s/it]\n",
      "100%|██████████| 10/10 [12:02<00:00, 72.30s/it]\n"
     ]
    },
    {
     "name": "stdout",
     "output_type": "stream",
     "text": [
      "t=0.5 => 0.0168+-0.00029\n"
     ]
    },
    {
     "name": "stderr",
     "output_type": "stream",
     "text": [
      "100%|██████████| 10/10 [01:12<00:00,  7.23s/it]\n",
      "100%|██████████| 10/10 [01:11<00:00,  7.12s/it]\n",
      "100%|██████████| 10/10 [01:10<00:00,  7.00s/it]\n",
      "100%|██████████| 10/10 [01:12<00:00,  7.21s/it]\n",
      "100%|██████████| 10/10 [01:10<00:00,  7.08s/it]\n",
      "100%|██████████| 10/10 [01:11<00:00,  7.10s/it]\n",
      " 60%|██████    | 6/10 [07:15<04:49, 72.45s/it]"
     ]
    }
   ],
   "source": [
    "temperatures = [1, 5e-1, 1e-1, 5e-2, 1e-2, 5e-3, 1e-3]\n",
    "errors = []\n",
    "stdevs = []\n",
    "\n",
    "kwargs = trainer_default_kwargs()\n",
    "kwargs['lr'] = 1e-9\n",
    "num_repeat = 10\n",
    "num_steps = 10\n",
    "\n",
    "for t in temperatures:\n",
    "    model_path = Path(f'./models/long_cnn_laplace_{t}/')\n",
    "\n",
    "    error, stdev = avg_over_runs(score_model, num_repeat, model_path, num_steps, **kwargs)\n",
    "    print(f't={t} => {error:.4f}+-{stdev:.5f}')\n",
    "    errors.append(error)\n",
    "    stdevs.append(stdev)"
   ]
  },
  {
   "cell_type": "code",
   "execution_count": null,
   "metadata": {},
   "outputs": [],
   "source": [
    "results = {}\n",
    "results['cnn'] = (errors, stdevs)"
   ]
  },
  {
   "cell_type": "code",
   "execution_count": null,
   "metadata": {},
   "outputs": [],
   "source": [
    "temperatures = [1, 5e-1, 1e-1, 5e-2, 1e-2, 5e-3, 1e-3]\n",
    "errors = []\n",
    "stdevs = []\n",
    "\n",
    "kwargs = trainer_default_kwargs()\n",
    "kwargs['lr'] = 1e-9\n",
    "num_repeat = 10\n",
    "num_steps = 10\n",
    "\n",
    "for t in temperatures:\n",
    "    model_path = Path(f'./models/long_linear_laplace_{t}/')\n",
    "\n",
    "    while not (model_path / 'model.pth').exists():\n",
    "        pass\n",
    "\n",
    "    error, stdev = avg_over_runs(score_model, num_repeat, model_path, num_steps, **kwargs)\n",
    "    print(f't={t} => {error:.4f}+-{stdev:.5f}')\n",
    "    errors.append(error)\n",
    "    stdevs.append(stdev)"
   ]
  }
 ],
 "metadata": {
  "kernelspec": {
   "display_name": "Python 3 (ipykernel)",
   "language": "python",
   "name": "python3"
  },
  "language_info": {
   "codemirror_mode": {
    "name": "ipython",
    "version": 3
   },
   "file_extension": ".py",
   "mimetype": "text/x-python",
   "name": "python",
   "nbconvert_exporter": "python",
   "pygments_lexer": "ipython3",
   "version": "3.9.13"
  },
  "vscode": {
   "interpreter": {
    "hash": "5b0fbc5f22f7071972b866504fce4eb3a150ae9903c6cd85f368e76c2ade1186"
   }
  }
 },
 "nbformat": 4,
 "nbformat_minor": 2
}
