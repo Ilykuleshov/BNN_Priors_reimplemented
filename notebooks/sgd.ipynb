{
 "cells": [
  {
   "cell_type": "code",
   "execution_count": 1,
   "id": "059d2be7",
   "metadata": {},
   "outputs": [
    {
     "name": "stdout",
     "output_type": "stream",
     "text": [
      "env: CUDA_VISIBLE_DEVICES=1\n"
     ]
    }
   ],
   "source": [
    "%env CUDA_VISIBLE_DEVICES=1"
   ]
  },
  {
   "cell_type": "code",
   "execution_count": 2,
   "id": "3606500a",
   "metadata": {},
   "outputs": [],
   "source": [
    "import numpy as np\n",
    "\n",
    "import torch\n",
    "import torch.nn as nn\n",
    "import torch.optim as optim\n",
    "import torchvision\n",
    "from matplotlib import pyplot as plt\n",
    "from tqdm import trange\n",
    "from torch.distributions.normal import Normal\n",
    "from torch.distributions.laplace import Laplace\n",
    "from torch.utils.tensorboard import SummaryWriter\n",
    "from torch.utils.data import Dataset, DataLoader"
   ]
  },
  {
   "cell_type": "code",
   "execution_count": 3,
   "id": "4892f0e3",
   "metadata": {},
   "outputs": [],
   "source": [
    "class Model(nn.Module):\n",
    "    def __init__(self):\n",
    "        super().__init__()\n",
    "        self.conv_0 = nn.Conv2d(in_channels=1, out_channels=64, kernel_size=3)\n",
    "        self.conv_1 = nn.Conv2d(in_channels=64, out_channels=64, kernel_size=3)\n",
    "        self.relu = nn.ReLU()\n",
    "        self.pooling = nn.MaxPool2d(kernel_size=2)\n",
    "        self.fc = nn.Linear(in_features=1600, out_features=10)\n",
    "\n",
    "    def forward(self, x):\n",
    "        x = self.relu(self.conv_0(x))\n",
    "        x = self.pooling(x)\n",
    "        x = self.relu(self.conv_1(x))\n",
    "        x = self.pooling(x)\n",
    "        x = x.view(-1, 1600)\n",
    "        x = self.fc(x)\n",
    "        return x"
   ]
  },
  {
   "cell_type": "code",
   "execution_count": 4,
   "id": "c1f3b2dc",
   "metadata": {},
   "outputs": [],
   "source": [
    "mdl = Model()"
   ]
  },
  {
   "cell_type": "code",
   "execution_count": 5,
   "id": "0dcbe942",
   "metadata": {},
   "outputs": [],
   "source": [
    "dataset = torchvision.datasets.MNIST('./files/', train=True, download=True,\n",
    "                             transform=torchvision.transforms.Compose([\n",
    "                               torchvision.transforms.ToTensor(),\n",
    "                               torchvision.transforms.Normalize(\n",
    "                                 (0.1307,), (0.3081,))\n",
    "                             ]))\n",
    "train_set, val_set = torch.utils.data.random_split(dataset, [50000, 10000])"
   ]
  },
  {
   "cell_type": "code",
   "execution_count": 6,
   "id": "66821553",
   "metadata": {},
   "outputs": [],
   "source": [
    "train_dataloader = DataLoader(train_set, batch_size = 128, shuffle=True)\n",
    "test_dataloader = DataLoader(val_set, batch_size = 1000, shuffle=True)"
   ]
  },
  {
   "cell_type": "code",
   "execution_count": 7,
   "id": "de8f11c1",
   "metadata": {},
   "outputs": [],
   "source": [
    "cross_entropy = nn.CrossEntropyLoss()\n",
    "optimizer = torch.optim.Adam(mdl.parameters(), lr = 1e-3)"
   ]
  },
  {
   "cell_type": "code",
   "execution_count": 8,
   "id": "8b417f8a",
   "metadata": {},
   "outputs": [],
   "source": [
    "n_epochs = 5\n",
    "device = 'cuda'"
   ]
  },
  {
   "cell_type": "code",
   "execution_count": 9,
   "id": "2ef2e3be",
   "metadata": {},
   "outputs": [
    {
     "name": "stderr",
     "output_type": "stream",
     "text": [
      "100%|█████████████████████████████████████████████| 5/5 [00:52<00:00, 10.42s/it]\n"
     ]
    }
   ],
   "source": [
    "writer = SummaryWriter()\n",
    "mdl = mdl.to(device)\n",
    "for i in trange(n_epochs):\n",
    "    total_loss = 0\n",
    "    for (x, y) in iter(train_dataloader):\n",
    "        optimizer.zero_grad()\n",
    "        x = x.to(device)\n",
    "        y = y.to(device)\n",
    "        y_pred = mdl(x)\n",
    "        loss = cross_entropy(y_pred, y)\n",
    "        total_loss += loss\n",
    "        loss.backward()\n",
    "        optimizer.step()\n",
    "    writer.add_scalar('Loss/train', total_loss / (len(train_dataloader)), i)\n",
    "    if i % 15 == 0:\n",
    "        mdl.eval()\n",
    "        with torch.no_grad():\n",
    "            total_loss = 0\n",
    "            accuracy = 0\n",
    "            for (x, y) in iter(test_dataloader):\n",
    "                x = x.to(device)\n",
    "                y = y.to(device)\n",
    "\n",
    "                y_pred = mdl(x)\n",
    "                loss_test = cross_entropy(y_pred, y)   \n",
    "                total_loss += loss_test\n",
    "                accuracy += (torch.argmax(y_pred, dim = -1) == y).sum() / len(y)\n",
    "            writer.add_scalar('Loss/test', total_loss / len(test_dataloader), i)\n",
    "            writer.add_scalar('Accuracy/test', accuracy / len(test_dataloader), i)\n",
    "        mdl.train()"
   ]
  },
  {
   "cell_type": "code",
   "execution_count": 10,
   "id": "5a5e4c6b",
   "metadata": {},
   "outputs": [],
   "source": [
    "mdl.eval()\n",
    "with torch.no_grad():\n",
    "    total_loss = 0\n",
    "    accuracy = 0\n",
    "    for (x, y) in iter(test_dataloader):\n",
    "        x = x.to(device)\n",
    "        y = y.to(device)\n",
    "\n",
    "        y_pred = mdl(x)\n",
    "        loss_test = cross_entropy(y_pred, y)   \n",
    "        total_loss += loss_test\n",
    "        accuracy += (torch.argmax(y_pred, dim = -1) == y).sum() / len(y)"
   ]
  },
  {
   "cell_type": "code",
   "execution_count": 11,
   "id": "815b8d24",
   "metadata": {},
   "outputs": [
    {
     "data": {
      "text/plain": [
       "tensor(0.9880, device='cuda:0')"
      ]
     },
     "execution_count": 11,
     "metadata": {},
     "output_type": "execute_result"
    }
   ],
   "source": [
    "accuracy / len(test_dataloader)"
   ]
  },
  {
   "cell_type": "code",
   "execution_count": 19,
   "id": "263b0798",
   "metadata": {},
   "outputs": [
    {
     "data": {
      "text/plain": [
       "Model(\n",
       "  (conv_0): Conv2d(1, 64, kernel_size=(3, 3), stride=(1, 1))\n",
       "  (conv_1): Conv2d(64, 64, kernel_size=(3, 3), stride=(1, 1))\n",
       "  (relu): ReLU()\n",
       "  (pooling): MaxPool2d(kernel_size=2, stride=2, padding=0, dilation=1, ceil_mode=False)\n",
       "  (fc): Linear(in_features=1600, out_features=10, bias=True)\n",
       ")"
      ]
     },
     "execution_count": 19,
     "metadata": {},
     "output_type": "execute_result"
    }
   ],
   "source": [
    "mdl"
   ]
  },
  {
   "cell_type": "code",
   "execution_count": 46,
   "id": "56a4585b",
   "metadata": {},
   "outputs": [],
   "source": [
    "parameters = []\n",
    "for param in mdl.parameters():\n",
    "    parameters += param.view(-1, np.prod(param.shape)).detach().cpu().squeeze().tolist()\n",
    "\n",
    "# or\n",
    "#for name, param in model.named_parameters():"
   ]
  },
  {
   "cell_type": "code",
   "execution_count": 47,
   "id": "dfcd5395",
   "metadata": {},
   "outputs": [
    {
     "data": {
      "text/plain": [
       "27"
      ]
     },
     "execution_count": 47,
     "metadata": {},
     "output_type": "execute_result"
    }
   ],
   "source": [
    "np.prod((3, 3, 3))"
   ]
  },
  {
   "cell_type": "code",
   "execution_count": 48,
   "id": "19e4c0f2",
   "metadata": {},
   "outputs": [
    {
     "data": {
      "text/plain": [
       "53578"
      ]
     },
     "execution_count": 48,
     "metadata": {},
     "output_type": "execute_result"
    }
   ],
   "source": [
    "len(parameters)"
   ]
  },
  {
   "cell_type": "code",
   "execution_count": null,
   "id": "a61ef4c8",
   "metadata": {},
   "outputs": [],
   "source": [
    "np.histogram()"
   ]
  },
  {
   "cell_type": "code",
   "execution_count": 50,
   "id": "249c828c",
   "metadata": {},
   "outputs": [
    {
     "data": {
      "text/plain": [
       "Text(0.5, 1.0, \"Histogram with 'auto' bins\")"
      ]
     },
     "execution_count": 50,
     "metadata": {},
     "output_type": "execute_result"
    },
    {
     "data": {
      "image/png": "[encoded data removed]",
      "text/plain": [
       "<Figure size 640x480 with 1 Axes>"
      ]
     },
     "metadata": {},
     "output_type": "display_data"
    }
   ],
   "source": [
    "import matplotlib.pyplot as plt\n",
    "\n",
    "_ = plt.hist(parameters, bins='auto')  # arguments are passed to np.histogram\n",
    "\n",
    "plt.title(\"Histogram with 'auto' bins\")"
   ]
  },
  {
   "cell_type": "code",
   "execution_count": 53,
   "id": "7cc6b6c7",
   "metadata": {},
   "outputs": [
    {
     "data": {
      "text/plain": [
       "0.05368772353526383"
      ]
     },
     "execution_count": 53,
     "metadata": {},
     "output_type": "execute_result"
    }
   ],
   "source": [
    "np.std(parameters)"
   ]
  },
  {
   "cell_type": "code",
   "execution_count": 54,
   "id": "6217c59a",
   "metadata": {},
   "outputs": [
    {
     "data": {
      "text/plain": [
       "-0.007354980971496904"
      ]
     },
     "execution_count": 54,
     "metadata": {},
     "output_type": "execute_result"
    }
   ],
   "source": [
    "np.mean(parameters)"
   ]
  },
  {
   "cell_type": "code",
   "execution_count": 55,
   "id": "20013084",
   "metadata": {},
   "outputs": [],
   "source": [
    "norm = Normal(-0.01, 0.05)"
   ]
  },
  {
   "cell_type": "code",
   "execution_count": 57,
   "id": "d567059e",
   "metadata": {},
   "outputs": [],
   "source": [
    "norm_sample = norm.sample((53000,))"
   ]
  },
  {
   "cell_type": "code",
   "execution_count": 59,
   "id": "449b6c25",
   "metadata": {},
   "outputs": [],
   "source": [
    "lapl = Laplace(-0.01, 0.05)"
   ]
  },
  {
   "cell_type": "code",
   "execution_count": 60,
   "id": "b606d61f",
   "metadata": {},
   "outputs": [],
   "source": [
    "lapl_sample = lapl.sample((53000, ))"
   ]
  },
  {
   "cell_type": "code",
   "execution_count": 62,
   "id": "e1c92f97",
   "metadata": {},
   "outputs": [
    {
     "data": {
      "text/plain": [
       "Text(0.5, 1.0, \"Histogram with 'auto' bins\")"
      ]
     },
     "execution_count": 62,
     "metadata": {},
     "output_type": "execute_result"
    },
    {
     "data": {
      "image/png": "[encoded data removed]",
      "text/plain": [
       "<Figure size 640x480 with 1 Axes>"
      ]
     },
     "metadata": {},
     "output_type": "display_data"
    }
   ],
   "source": [
    "_ = plt.hist(norm_sample, bins='auto')  # arguments are passed to np.histogram\n",
    "\n",
    "plt.title(\"Histogram with 'auto' bins\")"
   ]
  },
  {
   "cell_type": "code",
   "execution_count": 63,
   "id": "49ff2e33",
   "metadata": {},
   "outputs": [
    {
     "data": {
      "text/plain": [
       "Text(0.5, 1.0, \"Histogram with 'auto' bins\")"
      ]
     },
     "execution_count": 63,
     "metadata": {},
     "output_type": "execute_result"
    },
    {
     "data": {
      "image/png": "[encoded data removed]",
      "text/plain": [
       "<Figure size 640x480 with 1 Axes>"
      ]
     },
     "metadata": {},
     "output_type": "display_data"
    }
   ],
   "source": [
    "_ = plt.hist(lapl_sample, bins='auto')  # arguments are passed to np.histogram\n",
    "\n",
    "plt.title(\"Histogram with 'auto' bins\")"
   ]
  },
  {
   "cell_type": "code",
   "execution_count": null,
   "id": "877d63e8",
   "metadata": {},
   "outputs": [],
   "source": []
  }
 ],
 "metadata": {
  "kernelspec": {
   "display_name": "Python 3 (ipykernel)",
   "language": "python",
   "name": "python3"
  },
  "language_info": {
   "codemirror_mode": {
    "name": "ipython",
    "version": 3
   },
   "file_extension": ".py",
   "mimetype": "text/x-python",
   "name": "python",
   "nbconvert_exporter": "python",
   "pygments_lexer": "ipython3",
   "version": "3.9.13"
  }
 },
 "nbformat": 4,
 "nbformat_minor": 5
}
