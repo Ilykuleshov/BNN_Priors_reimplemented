{
 "cells": [
  {
   "cell_type": "code",
   "execution_count": 2,
   "id": "83830c3f",
   "metadata": {},
   "outputs": [],
   "source": [
    "import numpy as np\n",
    "\n",
    "import torch\n",
    "import torch.nn as nn\n",
    "import torch.optim as optim\n",
    "import torchvision\n",
    "from matplotlib import pyplot as plt\n",
    "from tqdm import trange\n",
    "from torch.distributions.normal import Normal\n",
    "from bnn import BayesBaseModule, BayesConv2d, BayesLinear, BayesModel\n",
    "from torch.distributions.laplace import Laplace"
   ]
  },
  {
   "cell_type": "markdown",
   "id": "9a897215",
   "metadata": {},
   "source": [
    "## Distributions and model"
   ]
  },
  {
   "cell_type": "code",
   "execution_count": 3,
   "id": "7bb7e846",
   "metadata": {},
   "outputs": [],
   "source": [
    "distr = Normal(torch.tensor(0.), torch.tensor(1.))"
   ]
  },
  {
   "cell_type": "code",
   "execution_count": 4,
   "id": "fa7da557",
   "metadata": {},
   "outputs": [],
   "source": [
    "class NormalModel(nn.Module):\n",
    "    def __init__(self, \n",
    "                 weight_distribution,\n",
    "                 bias_distribution):\n",
    "        super().__init__()\n",
    "        self.conv_0 = BayesConv2d(weight_distribution, bias_distribution, \n",
    "                                  in_channels=1, out_channels=64, kernel_size=3)\n",
    "        self.conv_1 = BayesConv2d(weight_distribution, bias_distribution, \n",
    "                                  in_channels=64, out_channels=64, kernel_size=3)\n",
    "        self.relu = nn.ReLU()\n",
    "        self.pooling = nn.MaxPool2d(kernel_size=2)\n",
    "        self.fc = BayesLinear(weight_distribution, bias_distribution, in_features=1600, out_features=10)\n",
    "        self._weight_distribution = weight_distribution\n",
    "        self._bias_distribution = bias_distribution\n",
    "        \n",
    "    def weight_distribution(self):\n",
    "        return self._weight_distribution\n",
    "    \n",
    "    def bias_distribution(self):\n",
    "        return self._bias_distribution\n",
    "    \n",
    "    def weight(self):\n",
    "        return self.weight\n",
    "        \n",
    "    def log_prior(self):\n",
    "        log_p = 0\n",
    "        for m in self.modules():\n",
    "            if isinstance(m, (BayesLinear, BayesConv2d)):\n",
    "                log_p += m.log_prior()\n",
    "                \n",
    "        return log_p\n",
    "\n",
    "    def forward(self, x):\n",
    "        x = self.relu(self.conv_0(x))\n",
    "        x = self.pooling(x)\n",
    "        x = self.relu(self.conv_1(x))\n",
    "        x = self.pooling(x)\n",
    "        x = x.view(-1, 1600)\n",
    "        x = self.fc(x)\n",
    "        return x"
   ]
  },
  {
   "cell_type": "code",
   "execution_count": 5,
   "id": "48001054",
   "metadata": {},
   "outputs": [],
   "source": [
    "mdl = NormalModel(weight_distribution = distr,\n",
    "                 bias_distribution = distr)"
   ]
  },
  {
   "cell_type": "markdown",
   "id": "c754c3f4",
   "metadata": {},
   "source": [
    "## Dataset"
   ]
  },
  {
   "cell_type": "code",
   "execution_count": 6,
   "id": "fc2a8576",
   "metadata": {},
   "outputs": [],
   "source": [
    "dataset = torchvision.datasets.MNIST('./files/', train=True, download=True,\n",
    "                             transform=torchvision.transforms.Compose([\n",
    "                               torchvision.transforms.ToTensor(),\n",
    "                               torchvision.transforms.Normalize(\n",
    "                                 (0.1307,), (0.3081,))\n",
    "                             ]))\n",
    "train_set, val_set = torch.utils.data.random_split(dataset, [50000, 10000])"
   ]
  },
  {
   "cell_type": "code",
   "execution_count": 7,
   "id": "2f7aae88",
   "metadata": {},
   "outputs": [
    {
     "data": {
      "text/plain": [
       "torch.Size([1, 28, 28])"
      ]
     },
     "execution_count": 7,
     "metadata": {},
     "output_type": "execute_result"
    }
   ],
   "source": [
    "dataset[0][0].shape"
   ]
  },
  {
   "cell_type": "markdown",
   "id": "bd87af27",
   "metadata": {},
   "source": [
    "## Train"
   ]
  },
  {
   "cell_type": "markdown",
   "id": "9cfd6a53",
   "metadata": {},
   "source": [
    "### Multivariate Normal (0, I)"
   ]
  },
  {
   "cell_type": "code",
   "execution_count": 8,
   "id": "0b5d2777",
   "metadata": {},
   "outputs": [],
   "source": [
    "temperature = 1\n",
    "trainer = BayesModel(train_dataset=train_set,\n",
    "                    test_dataset=val_set,\n",
    "                    batch_size=128,\n",
    "                    architecture=mdl,\n",
    "                    lr=1e-3,\n",
    "                    temperature=temperature)"
   ]
  },
  {
   "cell_type": "code",
   "execution_count": 9,
   "id": "9a0672c9",
   "metadata": {},
   "outputs": [
    {
     "name": "stderr",
     "output_type": "stream",
     "text": [
      "100%|██████████| 1/1 [00:09<00:00,  9.88s/it]\n"
     ]
    }
   ],
   "source": [
    "trainer.fit(n_epochs = 1)"
   ]
  },
  {
   "cell_type": "code",
   "execution_count": 10,
   "id": "1814a77f",
   "metadata": {},
   "outputs": [
    {
     "name": "stdout",
     "output_type": "stream",
     "text": [
      "Temperature:  1 \n",
      " Accuracy:  tensor(0.8383, device='cuda:0')\n"
     ]
    }
   ],
   "source": [
    "acc = trainer.evaluate()\n",
    "print('Temperature: ', temperature, '\\n Accuracy: ', acc)"
   ]
  },
  {
   "cell_type": "code",
   "execution_count": 26,
   "id": "7a57281f",
   "metadata": {},
   "outputs": [
    {
     "name": "stderr",
     "output_type": "stream",
     "text": [
      "100%|██████████| 5/5 [00:35<00:00,  7.13s/it]\n"
     ]
    }
   ],
   "source": [
    "temperatures = [1]#[1, 5e-1, 1e-1, 5e-2, 1e-2, 1e-3]\n",
    "errors = np.zeros(len(temperatures))\n",
    "distr = Normal(torch.tensor(-0.01), torch.tensor(0.05))\n",
    "avg_over = 1\n",
    "\n",
    "for n in range(avg_over):\n",
    "    for i, temperature in enumerate(temperatures):\n",
    "        mdl = NormalModel(weight_distribution = distr,\n",
    "                        bias_distribution = distr)\n",
    "        trainer = BayesModel(train_dataset=train_set,\n",
    "                        test_dataset=val_set,\n",
    "                        batch_size=128,\n",
    "                        architecture=mdl,\n",
    "                        lr=1e-9,\n",
    "                        temperature=temperature)\n",
    "        trainer.fit(n_epochs = 5)\n",
    "        acc = trainer.evaluate()\n",
    "        errors[i] += 1 - acc.detach().cpu()\n",
    "errors = errors / avg_over"
   ]
  },
  {
   "cell_type": "code",
   "execution_count": 33,
   "id": "19590f18",
   "metadata": {},
   "outputs": [
    {
     "data": {
      "text/plain": [
       "tensor([[[[ 1.3055,  1.6160,  1.8242],\n",
       "          [-0.3005,  1.0856,  1.7522],\n",
       "          [ 1.5139,  0.4671,  1.8577]]],\n",
       "\n",
       "\n",
       "        [[[ 1.4520,  1.3488,  1.9724],\n",
       "          [-1.1404,  1.0848,  1.6962],\n",
       "          [ 2.0759, -0.5648,  0.6666]]],\n",
       "\n",
       "\n",
       "        [[[ 1.7180,  1.9651,  1.7598],\n",
       "          [ 1.9835,  1.6662,  0.7398],\n",
       "          [ 2.0185,  1.7112,  1.8907]]],\n",
       "\n",
       "\n",
       "        [[[ 1.8561,  1.9098,  1.8790],\n",
       "          [ 1.5729,  1.5606,  1.5986],\n",
       "          [ 0.9137,  1.5476,  2.0709]]],\n",
       "\n",
       "\n",
       "        [[[-2.3835,  0.2521,  1.2689],\n",
       "          [ 1.5217,  2.0694,  1.8729],\n",
       "          [ 2.0768,  1.4852,  1.9492]]],\n",
       "\n",
       "\n",
       "        [[[ 1.6201,  1.5554,  1.6161],\n",
       "          [ 1.9461,  2.0336,  1.9210],\n",
       "          [ 2.0338,  2.0754,  0.4987]]],\n",
       "\n",
       "\n",
       "        [[[ 1.4620,  1.4724,  2.0087],\n",
       "          [ 2.0282,  1.6941,  2.0589],\n",
       "          [ 2.0529,  1.8872,  1.8633]]],\n",
       "\n",
       "\n",
       "        [[[ 2.0438,  1.6890,  1.1496],\n",
       "          [ 2.0460,  1.3676,  1.7535],\n",
       "          [ 2.0477,  1.8800, -2.8284]]],\n",
       "\n",
       "\n",
       "        [[[ 1.5999,  1.9911,  2.0044],\n",
       "          [ 2.0485,  2.0713,  2.0442],\n",
       "          [ 1.4899,  2.0768,  1.9356]]],\n",
       "\n",
       "\n",
       "        [[[ 2.0768,  2.0760,  2.0429],\n",
       "          [ 1.6416,  1.6049,  1.7107],\n",
       "          [ 1.8604,  1.5663,  2.0098]]],\n",
       "\n",
       "\n",
       "        [[[ 1.5859,  2.0314,  1.4949],\n",
       "          [ 2.0316,  1.9278,  1.6577],\n",
       "          [ 2.0738,  2.0439,  2.0421]]],\n",
       "\n",
       "\n",
       "        [[[ 1.2018,  1.3134,  2.0759],\n",
       "          [ 2.0551,  1.9285,  2.0075],\n",
       "          [ 2.0314,  1.8258,  2.0511]]],\n",
       "\n",
       "\n",
       "        [[[ 1.7708,  1.5591,  2.0031],\n",
       "          [ 2.0571,  1.9254,  1.3330],\n",
       "          [ 2.0510,  1.6933,  1.4568]]],\n",
       "\n",
       "\n",
       "        [[[ 2.0584,  2.0768,  0.0873],\n",
       "          [ 2.0765,  1.2271,  2.0189],\n",
       "          [ 1.0956,  2.0617,  2.0285]]],\n",
       "\n",
       "\n",
       "        [[[ 1.6674,  1.5763,  2.0709],\n",
       "          [ 1.9926,  1.8526,  2.0376],\n",
       "          [ 1.9203,  2.0008,  1.3924]]],\n",
       "\n",
       "\n",
       "        [[[ 0.6756,  2.0768,  1.4419],\n",
       "          [ 1.1842,  2.0360,  1.8970],\n",
       "          [ 1.3594,  1.5560,  1.9567]]],\n",
       "\n",
       "\n",
       "        [[[ 1.0560,  2.0584,  1.3802],\n",
       "          [ 1.0916,  2.0757, -0.0746],\n",
       "          [-0.3782,  2.0663,  0.4306]]],\n",
       "\n",
       "\n",
       "        [[[ 2.0258,  2.0698,  1.3903],\n",
       "          [ 1.8236,  1.6763,  2.0118],\n",
       "          [ 2.0730,  1.9800,  0.0843]]],\n",
       "\n",
       "\n",
       "        [[[ 2.0638,  1.2425,  2.0768],\n",
       "          [ 1.5447,  0.1171,  0.1160],\n",
       "          [ 2.0302,  2.0763,  1.9811]]],\n",
       "\n",
       "\n",
       "        [[[ 1.5045,  1.6285,  0.4845],\n",
       "          [ 1.9946,  2.0719,  1.6166],\n",
       "          [ 1.7711,  2.0402,  1.8682]]],\n",
       "\n",
       "\n",
       "        [[[ 1.6215,  1.2075,  1.6210],\n",
       "          [ 1.6154,  1.6059,  1.7366],\n",
       "          [ 2.0660,  1.7869,  2.0240]]],\n",
       "\n",
       "\n",
       "        [[[ 1.4257,  2.0155,  1.6345],\n",
       "          [ 1.4637,  1.8835,  2.0526],\n",
       "          [ 1.0145,  0.0232,  1.9486]]],\n",
       "\n",
       "\n",
       "        [[[ 2.0385,  1.4962,  1.1861],\n",
       "          [ 2.0729,  2.0764,  1.8161],\n",
       "          [ 2.0348,  1.4576,  1.3514]]],\n",
       "\n",
       "\n",
       "        [[[ 2.0233,  2.0409,  1.2779],\n",
       "          [ 1.9655,  2.0688,  1.8296],\n",
       "          [ 1.6128,  2.0401,  2.0739]]],\n",
       "\n",
       "\n",
       "        [[[ 1.7946,  2.0487,  1.5310],\n",
       "          [ 2.0478,  2.0197,  2.0161],\n",
       "          [ 1.9774,  2.0739,  1.8719]]],\n",
       "\n",
       "\n",
       "        [[[ 1.6825,  1.5491,  2.0246],\n",
       "          [ 1.4216,  2.0170,  1.7764],\n",
       "          [ 1.4364,  2.0463,  2.0761]]],\n",
       "\n",
       "\n",
       "        [[[ 1.6178,  1.6885,  2.0708],\n",
       "          [ 2.0463,  2.0650,  1.7196],\n",
       "          [ 0.8253,  1.6093,  1.9744]]],\n",
       "\n",
       "\n",
       "        [[[ 2.0764,  1.9511, -1.0395],\n",
       "          [ 0.8361,  0.6248,  1.3895],\n",
       "          [ 1.8238,  1.7104,  2.0633]]],\n",
       "\n",
       "\n",
       "        [[[ 2.0344,  1.9832,  1.7071],\n",
       "          [ 1.4478,  1.4480,  2.0735],\n",
       "          [ 1.9436,  1.9732,  1.8992]]],\n",
       "\n",
       "\n",
       "        [[[ 2.0728,  0.9315, -1.7151],\n",
       "          [ 2.0510,  0.9804, -0.2086],\n",
       "          [ 1.4126,  1.8077,  1.8113]]],\n",
       "\n",
       "\n",
       "        [[[ 1.7494,  1.8124, -0.3816],\n",
       "          [ 2.0756,  1.2417, -4.2450],\n",
       "          [ 2.0514,  2.0738,  1.8190]]],\n",
       "\n",
       "\n",
       "        [[[ 2.0531,  1.4547,  2.0163],\n",
       "          [-0.0787,  1.9848,  1.2460],\n",
       "          [ 0.5492,  1.2517,  1.9479]]],\n",
       "\n",
       "\n",
       "        [[[ 2.0604,  1.9162,  1.7377],\n",
       "          [ 1.5627,  1.7146,  2.0740],\n",
       "          [ 1.9706,  1.7205,  0.7767]]],\n",
       "\n",
       "\n",
       "        [[[ 2.0398,  0.2515,  0.8632],\n",
       "          [ 0.5959, -0.3254,  2.0048],\n",
       "          [ 2.0351,  1.8833,  2.0697]]],\n",
       "\n",
       "\n",
       "        [[[ 2.0766,  1.5843, -0.2989],\n",
       "          [ 1.7141,  1.8328,  1.8729],\n",
       "          [ 0.8971,  2.0744,  1.9593]]],\n",
       "\n",
       "\n",
       "        [[[ 2.0540,  0.5384,  1.7341],\n",
       "          [ 2.0579,  1.5404,  2.0699],\n",
       "          [ 1.9763,  2.0759,  1.9711]]],\n",
       "\n",
       "\n",
       "        [[[ 2.0572,  2.0642,  1.4071],\n",
       "          [ 2.0768,  1.3336,  1.9198],\n",
       "          [ 2.0499,  0.0642,  1.7791]]],\n",
       "\n",
       "\n",
       "        [[[ 2.0550,  1.7186,  1.7392],\n",
       "          [ 1.9889,  1.9666,  1.9778],\n",
       "          [ 2.0749,  0.9033,  1.9775]]],\n",
       "\n",
       "\n",
       "        [[[ 1.7437,  0.4535,  0.2743],\n",
       "          [ 1.4829,  2.0677,  1.7747],\n",
       "          [ 1.7888,  1.9640,  1.2050]]],\n",
       "\n",
       "\n",
       "        [[[ 2.0570,  1.3266,  1.4126],\n",
       "          [-0.7364,  0.9745,  2.0358],\n",
       "          [ 1.7487,  2.0500,  1.9525]]],\n",
       "\n",
       "\n",
       "        [[[ 1.4834,  0.3999,  1.5585],\n",
       "          [ 1.9993,  2.0050,  1.5588],\n",
       "          [ 1.9221,  2.0001,  2.0601]]],\n",
       "\n",
       "\n",
       "        [[[ 1.3194,  2.0631,  1.7231],\n",
       "          [ 1.7634,  2.0736,  1.6144],\n",
       "          [ 0.0774,  1.8281,  0.4903]]],\n",
       "\n",
       "\n",
       "        [[[ 1.5123,  2.0750,  1.7373],\n",
       "          [ 1.7680,  1.4551,  1.8647],\n",
       "          [ 1.4569,  1.1090,  1.9685]]],\n",
       "\n",
       "\n",
       "        [[[ 1.4338,  1.5698,  1.8452],\n",
       "          [ 0.7676,  2.0768,  1.1752],\n",
       "          [ 1.9921,  2.0734,  1.9735]]],\n",
       "\n",
       "\n",
       "        [[[ 2.0433,  0.6517,  0.1398],\n",
       "          [ 1.8776, -0.4598,  2.0620],\n",
       "          [ 2.0768,  1.6497,  2.0763]]],\n",
       "\n",
       "\n",
       "        [[[ 2.0397,  1.3856,  2.0767],\n",
       "          [ 2.0016,  1.6248,  2.0455],\n",
       "          [ 0.9715,  2.0707,  1.6557]]],\n",
       "\n",
       "\n",
       "        [[[ 0.9202,  1.9990, -1.3886],\n",
       "          [ 2.0764,  1.3401,  0.5899],\n",
       "          [ 2.0595,  1.9669,  1.7671]]],\n",
       "\n",
       "\n",
       "        [[[ 2.0702,  1.8831,  2.0767],\n",
       "          [ 1.7072,  0.6700,  2.0746],\n",
       "          [ 2.0486,  1.8988,  2.0088]]],\n",
       "\n",
       "\n",
       "        [[[ 1.9312,  1.0993,  0.7566],\n",
       "          [ 2.0695,  1.9271,  2.0711],\n",
       "          [ 0.7947,  1.9228,  1.4423]]],\n",
       "\n",
       "\n",
       "        [[[ 1.4379,  1.9428,  1.2299],\n",
       "          [ 1.8275,  1.2823,  2.0382],\n",
       "          [ 0.5410,  0.9155,  2.0730]]],\n",
       "\n",
       "\n",
       "        [[[ 2.0733,  1.9796,  2.0738],\n",
       "          [ 1.9111,  1.5840,  2.0065],\n",
       "          [ 2.0767,  2.0674, -0.5259]]],\n",
       "\n",
       "\n",
       "        [[[ 2.0581,  1.8275,  1.8899],\n",
       "          [ 2.0644, -1.0971,  1.9688],\n",
       "          [ 2.0631,  2.0086,  2.0351]]],\n",
       "\n",
       "\n",
       "        [[[ 1.9736,  2.0342,  1.3999],\n",
       "          [ 1.9807, -0.9469,  1.5428],\n",
       "          [ 1.9677,  1.8540,  1.7876]]],\n",
       "\n",
       "\n",
       "        [[[ 1.9935,  0.2833, -1.2667],\n",
       "          [ 0.1750,  1.5739,  1.7680],\n",
       "          [ 1.8389,  1.9669,  0.9752]]],\n",
       "\n",
       "\n",
       "        [[[ 1.7575,  2.0688,  2.0605],\n",
       "          [ 1.9155,  1.1815,  2.0490],\n",
       "          [-1.0241,  0.9120,  1.4802]]],\n",
       "\n",
       "\n",
       "        [[[ 1.9175,  2.0343,  2.0768],\n",
       "          [ 1.9761,  1.8071,  1.5683],\n",
       "          [ 0.9739,  1.5801,  1.8466]]],\n",
       "\n",
       "\n",
       "        [[[ 1.9477,  2.0757,  2.0501],\n",
       "          [-3.6416,  2.0452,  1.9123],\n",
       "          [ 1.8100,  2.0543,  2.0654]]],\n",
       "\n",
       "\n",
       "        [[[ 1.9655, -0.1954,  1.7160],\n",
       "          [-0.3441,  0.7909,  1.9951],\n",
       "          [ 2.0754,  0.2522,  1.3481]]],\n",
       "\n",
       "\n",
       "        [[[ 2.0568,  2.0646,  0.3836],\n",
       "          [ 1.7071,  1.9975,  1.0852],\n",
       "          [-1.8978,  1.2856,  2.0021]]],\n",
       "\n",
       "\n",
       "        [[[ 2.0657,  1.9410,  2.0254],\n",
       "          [ 2.0765,  1.7825,  1.5582],\n",
       "          [ 0.9568,  1.8031,  1.2997]]],\n",
       "\n",
       "\n",
       "        [[[ 1.9930,  1.8595,  1.9955],\n",
       "          [ 0.9346,  1.2015,  1.5940],\n",
       "          [ 1.9917, -0.8064,  2.0255]]],\n",
       "\n",
       "\n",
       "        [[[ 2.0768,  1.9442,  2.0763],\n",
       "          [ 2.0764,  1.1811,  1.8417],\n",
       "          [ 1.9095,  1.9757,  1.4341]]],\n",
       "\n",
       "\n",
       "        [[[ 1.9225,  1.1367,  2.0486],\n",
       "          [ 1.1323,  1.4039,  1.5369],\n",
       "          [ 1.7214,  1.6833,  1.7041]]],\n",
       "\n",
       "\n",
       "        [[[ 1.4298,  1.9036,  1.5566],\n",
       "          [-0.2749,  1.9697,  1.4909],\n",
       "          [ 2.0764,  2.0761,  2.0531]]]], device='cuda:0',\n",
       "       grad_fn=<SubBackward0>)"
      ]
     },
     "execution_count": 33,
     "metadata": {},
     "output_type": "execute_result"
    }
   ],
   "source": [
    "distr.log_prob(mdl.conv_0.weight)"
   ]
  },
  {
   "cell_type": "code",
   "execution_count": null,
   "id": "7e3bba6d",
   "metadata": {},
   "outputs": [
    {
     "name": "stderr",
     "output_type": "stream",
     "text": [
      "100%|█████████████████████████████████████████████| 1/1 [00:12<00:00, 12.72s/it]\n",
      "100%|█████████████████████████████████████████████| 1/1 [00:12<00:00, 12.64s/it]\n",
      "100%|█████████████████████████████████████████████| 1/1 [00:12<00:00, 12.06s/it]\n",
      "100%|█████████████████████████████████████████████| 1/1 [00:11<00:00, 11.96s/it]\n",
      "100%|█████████████████████████████████████████████| 1/1 [00:11<00:00, 11.82s/it]\n",
      "100%|█████████████████████████████████████████████| 1/1 [00:11<00:00, 11.89s/it]\n",
      "100%|█████████████████████████████████████████████| 1/1 [00:11<00:00, 11.61s/it]\n",
      "100%|█████████████████████████████████████████████| 1/1 [00:12<00:00, 12.39s/it]\n",
      "100%|█████████████████████████████████████████████| 1/1 [00:12<00:00, 12.25s/it]\n",
      "100%|█████████████████████████████████████████████| 1/1 [00:14<00:00, 14.20s/it]\n",
      "100%|█████████████████████████████████████████████| 1/1 [00:12<00:00, 12.49s/it]\n",
      "100%|█████████████████████████████████████████████| 1/1 [00:12<00:00, 12.58s/it]\n",
      "100%|█████████████████████████████████████████████| 1/1 [00:11<00:00, 11.73s/it]\n",
      "100%|█████████████████████████████████████████████| 1/1 [00:12<00:00, 12.29s/it]\n",
      "100%|█████████████████████████████████████████████| 1/1 [00:12<00:00, 12.52s/it]\n",
      "100%|█████████████████████████████████████████████| 1/1 [00:11<00:00, 11.25s/it]\n",
      "100%|█████████████████████████████████████████████| 1/1 [00:11<00:00, 11.90s/it]\n",
      "100%|█████████████████████████████████████████████| 1/1 [00:11<00:00, 11.50s/it]\n",
      "100%|█████████████████████████████████████████████| 1/1 [00:11<00:00, 11.29s/it]\n",
      "100%|█████████████████████████████████████████████| 1/1 [00:12<00:00, 12.08s/it]\n",
      "100%|█████████████████████████████████████████████| 1/1 [00:12<00:00, 12.12s/it]\n",
      "100%|█████████████████████████████████████████████| 1/1 [00:12<00:00, 12.27s/it]\n",
      "100%|█████████████████████████████████████████████| 1/1 [00:11<00:00, 11.28s/it]\n",
      "100%|█████████████████████████████████████████████| 1/1 [00:12<00:00, 12.31s/it]\n",
      "100%|█████████████████████████████████████████████| 1/1 [00:11<00:00, 11.73s/it]\n",
      "100%|█████████████████████████████████████████████| 1/1 [00:10<00:00, 10.90s/it]\n",
      "100%|█████████████████████████████████████████████| 1/1 [00:12<00:00, 12.12s/it]\n",
      "100%|█████████████████████████████████████████████| 1/1 [00:12<00:00, 12.54s/it]\n",
      "100%|█████████████████████████████████████████████| 1/1 [00:12<00:00, 12.44s/it]\n",
      "100%|█████████████████████████████████████████████| 1/1 [00:12<00:00, 12.34s/it]\n"
     ]
    }
   ],
   "source": [
    "laplace_errors = np.zeros(6)\n",
    "temperatures = [1, 5e-1, 1e-1, 5e-2, 1e-2, 1e-3]\n",
    "distr = Laplace(loc = torch.tensor(-0.01), scale = torch.tensor(0.05))\n",
    "for n in range(5):\n",
    "    for i in range(6):\n",
    "        temperature = temperatures[i]\n",
    "        mdl = NormalModel(weight_distribution = distr,\n",
    "                        bias_distribution = distr)\n",
    "        trainer = BayesModel(train_dataset=train_set,\n",
    "                        test_dataset=val_set,\n",
    "                        batch_size=128,\n",
    "                        architecture=mdl,\n",
    "                        lr=1e-3,\n",
    "                        temperature=temperature)\n",
    "        trainer.fit(n_epochs = 1)\n",
    "        acc = trainer.evaluate()\n",
    "        laplace_errors[i] += 1 - acc.detach().cpu()\n",
    "laplace_errors = laplace_errors / 5"
   ]
  },
  {
   "cell_type": "code",
   "execution_count": 16,
   "id": "18a28809",
   "metadata": {},
   "outputs": [
    {
     "data": {
      "text/plain": [
       "array([0.89614315])"
      ]
     },
     "execution_count": 16,
     "metadata": {},
     "output_type": "execute_result"
    }
   ],
   "source": [
    "errors"
   ]
  },
  {
   "cell_type": "code",
   "execution_count": 15,
   "id": "feb6867e",
   "metadata": {},
   "outputs": [
    {
     "data": {
      "image/png": "[encoded data removed]",
      "text/plain": [
       "<Figure size 432x288 with 1 Axes>"
      ]
     },
     "metadata": {
      "needs_background": "light"
     },
     "output_type": "display_data"
    }
   ],
   "source": [
    "plt.plot(temperatures, errors)\n",
    "# plt.plot(temperatures, laplace_errors)\n",
    "plt.show()"
   ]
  },
  {
   "cell_type": "code",
   "execution_count": null,
   "id": "667f7773",
   "metadata": {},
   "outputs": [
    {
     "data": {
      "text/plain": [
       "[1, 0.5, 0.1, 0.05, 0.01, 0.001]"
      ]
     },
     "execution_count": 32,
     "metadata": {},
     "output_type": "execute_result"
    }
   ],
   "source": [
    "temperatures"
   ]
  },
  {
   "cell_type": "code",
   "execution_count": null,
   "id": "d1747bf2",
   "metadata": {},
   "outputs": [
    {
     "data": {
      "text/plain": [
       "array([0.14709255, 0.14719143, 0.15156248, 0.14922862, 0.15336231,\n",
       "       0.15280854])"
      ]
     },
     "execution_count": 33,
     "metadata": {},
     "output_type": "execute_result"
    }
   ],
   "source": [
    "errors"
   ]
  },
  {
   "cell_type": "code",
   "execution_count": null,
   "id": "fadb854d",
   "metadata": {},
   "outputs": [
    {
     "name": "stderr",
     "output_type": "stream",
     "text": [
      "100%|█████████████████████████████████████████| 100/100 [17:26<00:00, 10.47s/it]\n"
     ]
    }
   ],
   "source": [
    "temperature = 1\n",
    "mdl = NormalModel(weight_distribution = distr,\n",
    "                bias_distribution = distr)\n",
    "trainer = BayesModel(train_dataset=train_set,\n",
    "                test_dataset=val_set,\n",
    "                batch_size=128,\n",
    "                architecture=mdl,\n",
    "                lr=1e-3,\n",
    "                temperature=temperature)\n",
    "trainer.fit(n_epochs = 100)"
   ]
  },
  {
   "cell_type": "code",
   "execution_count": null,
   "id": "ac286abd",
   "metadata": {},
   "outputs": [],
   "source": []
  }
 ],
 "metadata": {
  "kernelspec": {
   "display_name": "Python 3 (ipykernel)",
   "language": "python",
   "name": "python3"
  },
  "language_info": {
   "codemirror_mode": {
    "name": "ipython",
    "version": 3
   },
   "file_extension": ".py",
   "mimetype": "text/x-python",
   "name": "python",
   "nbconvert_exporter": "python",
   "pygments_lexer": "ipython3",
   "version": "3.9.12"
  },
  "vscode": {
   "interpreter": {
    "hash": "5b0fbc5f22f7071972b866504fce4eb3a150ae9903c6cd85f368e76c2ade1186"
   }
  }
 },
 "nbformat": 4,
 "nbformat_minor": 5
}
