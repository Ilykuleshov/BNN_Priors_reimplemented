{
 "cells": [
  {
   "cell_type": "code",
   "execution_count": 1,
   "id": "83830c3f",
   "metadata": {},
   "outputs": [],
   "source": [
    "import numpy as np\n",
    "\n",
    "import torch\n",
    "import torch.nn as nn\n",
    "import torch.optim as optim\n",
    "import torchvision\n",
    "from matplotlib import pyplot as plt\n",
    "from tqdm import trange\n",
    "from torch.distributions.normal import Normal\n",
    "from bnn import BayesBaseModule, BayesConv2d, BayesLinear, BayesModel"
   ]
  },
  {
   "cell_type": "markdown",
   "id": "9a897215",
   "metadata": {},
   "source": [
    "## Distributions and model"
   ]
  },
  {
   "cell_type": "code",
   "execution_count": 2,
   "id": "7bb7e846",
   "metadata": {},
   "outputs": [],
   "source": [
    "distr = Normal(torch.tensor([0.]), torch.tensor([1.]))"
   ]
  },
  {
   "cell_type": "code",
   "execution_count": 3,
   "id": "fa7da557",
   "metadata": {},
   "outputs": [],
   "source": [
    "class NormalModel(nn.Module):\n",
    "    def __init__(self, \n",
    "                 weight_distribution,\n",
    "                 bias_distribution):\n",
    "        super().__init__()\n",
    "        self.conv_0 = BayesConv2d(weight_distribution, bias_distribution, \n",
    "                                  in_channels=1, out_channels=64, kernel_size=3)\n",
    "        self.conv_1 = BayesConv2d(weight_distribution, bias_distribution, \n",
    "                                  64, 64, 3)\n",
    "        self.relu = nn.ReLU()\n",
    "        self.pooling = nn.MaxPool2d(kernel_size=2)\n",
    "        self.fc = BayesLinear(1600, 10, weight_distribution, bias_distribution)\n",
    "        self._weight_distribution = weight_distribution\n",
    "        self._bias_distribution = bias_distribution\n",
    "        \n",
    "    def weight_distribution(self):\n",
    "        return self._weight_distribution\n",
    "    \n",
    "    def bias_distribution(self):\n",
    "        return self._bias_distribution\n",
    "    \n",
    "    def weight(self):\n",
    "        return self.weight\n",
    "        \n",
    "    def log_prior(self):\n",
    "        log_p = 0\n",
    "        for m in self.modules():\n",
    "            if isinstance(m, (BayesLinear, BayesConv2d)):\n",
    "                log_p += m.log_prior\n",
    "\n",
    "    def forward(self, x):\n",
    "        x = self.relu(self.conv_0(x))\n",
    "        x = self.pooling(x)\n",
    "        x = self.relu(self.conv_1(x))\n",
    "        x = self.pooling(x)\n",
    "        x = x.view(-1, 1600)\n",
    "        x = self.fc(x)\n",
    "        return x"
   ]
  },
  {
   "cell_type": "code",
   "execution_count": 4,
   "id": "48001054",
   "metadata": {},
   "outputs": [],
   "source": [
    "mdl = NormalModel(weight_distribution = distr,\n",
    "                 bias_distribution = distr)"
   ]
  },
  {
   "cell_type": "markdown",
   "id": "c754c3f4",
   "metadata": {},
   "source": [
    "## Dataset"
   ]
  },
  {
   "cell_type": "code",
   "execution_count": 5,
   "id": "fc2a8576",
   "metadata": {},
   "outputs": [],
   "source": [
    "dataset = torchvision.datasets.MNIST('./files/', train=True, download=True,\n",
    "                             transform=torchvision.transforms.Compose([\n",
    "                               torchvision.transforms.ToTensor(),\n",
    "                               torchvision.transforms.Normalize(\n",
    "                                 (0.1307,), (0.3081,))\n",
    "                             ]))\n",
    "train_set, val_set = torch.utils.data.random_split(dataset, [50000, 10000])"
   ]
  },
  {
   "cell_type": "code",
   "execution_count": 6,
   "id": "2f7aae88",
   "metadata": {},
   "outputs": [
    {
     "data": {
      "text/plain": [
       "torch.Size([1, 28, 28])"
      ]
     },
     "execution_count": 6,
     "metadata": {},
     "output_type": "execute_result"
    }
   ],
   "source": [
    "dataset[0][0].shape"
   ]
  },
  {
   "cell_type": "markdown",
   "id": "bd87af27",
   "metadata": {},
   "source": [
    "## Train"
   ]
  },
  {
   "cell_type": "code",
   "execution_count": 7,
   "id": "0b5d2777",
   "metadata": {},
   "outputs": [],
   "source": [
    "trainer = BayesModel(train_dataset=train_set,\n",
    "                    test_dataset=val_set,\n",
    "                    batch_size=128,\n",
    "                    architecture=mdl,\n",
    "                    lr=1e-3)"
   ]
  },
  {
   "cell_type": "code",
   "execution_count": 8,
   "id": "9a0672c9",
   "metadata": {},
   "outputs": [
    {
     "name": "stderr",
     "output_type": "stream",
     "text": [
      "\r",
      "  0%|                                                    | 0/30 [00:00<?, ?it/s]"
     ]
    },
    {
     "name": "stdout",
     "output_type": "stream",
     "text": [
      "torch.Size([128, 1, 28, 28])\n"
     ]
    },
    {
     "name": "stderr",
     "output_type": "stream",
     "text": [
      "  0%|                                                    | 0/30 [00:03<?, ?it/s]\n"
     ]
    },
    {
     "ename": "NameError",
     "evalue": "name 'bnn' is not defined",
     "output_type": "error",
     "traceback": [
      "\u001b[0;31m---------------------------------------------------------------------------\u001b[0m",
      "\u001b[0;31mNameError\u001b[0m                                 Traceback (most recent call last)",
      "Cell \u001b[0;32mIn [8], line 1\u001b[0m\n\u001b[0;32m----> 1\u001b[0m \u001b[43mtrainer\u001b[49m\u001b[38;5;241;43m.\u001b[39;49m\u001b[43mfit\u001b[49m\u001b[43m(\u001b[49m\u001b[43mn_epochs\u001b[49m\u001b[43m \u001b[49m\u001b[38;5;241;43m=\u001b[39;49m\u001b[43m \u001b[49m\u001b[38;5;241;43m30\u001b[39;49m\u001b[43m)\u001b[49m\n",
      "File \u001b[0;32m~/bnn/bnn/train.py:32\u001b[0m, in \u001b[0;36mBayesModel.fit\u001b[0;34m(self, n_epochs)\u001b[0m\n\u001b[1;32m     30\u001b[0m writer \u001b[38;5;241m=\u001b[39m SummaryWriter()\n\u001b[1;32m     31\u001b[0m \u001b[38;5;28;01mfor\u001b[39;00m i \u001b[38;5;129;01min\u001b[39;00m trange(n_epochs):\n\u001b[0;32m---> 32\u001b[0m     loss \u001b[38;5;241m=\u001b[39m \u001b[38;5;28;43mself\u001b[39;49m\u001b[38;5;241;43m.\u001b[39;49m\u001b[43mtraining_step\u001b[49m\u001b[43m(\u001b[49m\u001b[43m)\u001b[49m\n\u001b[1;32m     33\u001b[0m     writer\u001b[38;5;241m.\u001b[39madd_scalar(\u001b[38;5;124m'\u001b[39m\u001b[38;5;124mLoss/train\u001b[39m\u001b[38;5;124m'\u001b[39m, loss, i)\n\u001b[1;32m     34\u001b[0m     \u001b[38;5;28;01mif\u001b[39;00m n_epochs \u001b[38;5;241m%\u001b[39m \u001b[38;5;241m15\u001b[39m \u001b[38;5;241m==\u001b[39m \u001b[38;5;241m0\u001b[39m:\n",
      "File \u001b[0;32m~/bnn/bnn/train.py:54\u001b[0m, in \u001b[0;36mBayesModel.training_step\u001b[0;34m(self)\u001b[0m\n\u001b[1;32m     51\u001b[0m y \u001b[38;5;241m=\u001b[39m y\u001b[38;5;241m.\u001b[39mto(\u001b[38;5;28mself\u001b[39m\u001b[38;5;241m.\u001b[39mdevice)\n\u001b[1;32m     53\u001b[0m y_pred \u001b[38;5;241m=\u001b[39m \u001b[38;5;28mself\u001b[39m\u001b[38;5;241m.\u001b[39marchitecture(x)\n\u001b[0;32m---> 54\u001b[0m loss \u001b[38;5;241m=\u001b[39m \u001b[38;5;28mself\u001b[39m\u001b[38;5;241m.\u001b[39mcross_entropy(y_pred, y) \u001b[38;5;241m-\u001b[39m \u001b[38;5;28;43mself\u001b[39;49m\u001b[38;5;241;43m.\u001b[39;49m\u001b[43marchitecture\u001b[49m\u001b[38;5;241;43m.\u001b[39;49m\u001b[43mlog_prior\u001b[49m\u001b[43m(\u001b[49m\u001b[43m)\u001b[49m\n\u001b[1;32m     56\u001b[0m loss\u001b[38;5;241m.\u001b[39mbackward()\n\u001b[1;32m     57\u001b[0m \u001b[38;5;28mself\u001b[39m\u001b[38;5;241m.\u001b[39moptimizer\u001b[38;5;241m.\u001b[39mstep()\n",
      "Cell \u001b[0;32mIn [3], line 28\u001b[0m, in \u001b[0;36mNormalModel.log_prior\u001b[0;34m(self)\u001b[0m\n\u001b[1;32m     26\u001b[0m log_p \u001b[38;5;241m=\u001b[39m \u001b[38;5;241m0\u001b[39m\n\u001b[1;32m     27\u001b[0m \u001b[38;5;28;01mfor\u001b[39;00m m \u001b[38;5;129;01min\u001b[39;00m \u001b[38;5;28mself\u001b[39m\u001b[38;5;241m.\u001b[39mmodules():\n\u001b[0;32m---> 28\u001b[0m     \u001b[38;5;28;01mif\u001b[39;00m \u001b[38;5;28misinstance\u001b[39m(m, (\u001b[43mbnn\u001b[49m\u001b[38;5;241m.\u001b[39mBayesLinear, bnn\u001b[38;5;241m.\u001b[39mBayesConv2d)):\n\u001b[1;32m     29\u001b[0m         log_p \u001b[38;5;241m+\u001b[39m\u001b[38;5;241m=\u001b[39m m\u001b[38;5;241m.\u001b[39mlog_prior\n",
      "\u001b[0;31mNameError\u001b[0m: name 'bnn' is not defined"
     ]
    }
   ],
   "source": [
    "trainer.fit(n_epochs = 30)"
   ]
  },
  {
   "cell_type": "code",
   "execution_count": null,
   "id": "a3a46e4c",
   "metadata": {},
   "outputs": [],
   "source": []
  }
 ],
 "metadata": {
  "kernelspec": {
   "display_name": "Python 3 (ipykernel)",
   "language": "python",
   "name": "python3"
  },
  "language_info": {
   "codemirror_mode": {
    "name": "ipython",
    "version": 3
   },
   "file_extension": ".py",
   "mimetype": "text/x-python",
   "name": "python",
   "nbconvert_exporter": "python",
   "pygments_lexer": "ipython3",
   "version": "3.9.13"
  }
 },
 "nbformat": 4,
 "nbformat_minor": 5
}
