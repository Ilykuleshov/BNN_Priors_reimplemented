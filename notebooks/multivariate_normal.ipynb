{
 "cells": [
  {
   "cell_type": "code",
   "execution_count": 43,
   "id": "83830c3f",
   "metadata": {},
   "outputs": [],
   "source": [
    "import numpy as np\n",
    "\n",
    "import torch\n",
    "import torch.nn as nn\n",
    "import torch.optim as optim\n",
    "import torchvision\n",
    "from matplotlib import pyplot as plt\n",
    "from tqdm import trange\n",
    "from torch.distributions.normal import Normal\n",
    "from bnn import BayesBaseModule, BayesConv2d, BayesLinear, BayesModel\n",
    "from torch.distributions.laplace import Laplace"
   ]
  },
  {
   "cell_type": "markdown",
   "id": "9a897215",
   "metadata": {},
   "source": [
    "## Distributions and model"
   ]
  },
  {
   "cell_type": "code",
   "execution_count": 2,
   "id": "7bb7e846",
   "metadata": {},
   "outputs": [],
   "source": [
    "distr = Normal(torch.tensor(0.), torch.tensor(1.))"
   ]
  },
  {
   "cell_type": "code",
   "execution_count": 3,
   "id": "fa7da557",
   "metadata": {},
   "outputs": [],
   "source": [
    "class NormalModel(nn.Module):\n",
    "    def __init__(self, \n",
    "                 weight_distribution,\n",
    "                 bias_distribution):\n",
    "        super().__init__()\n",
    "        self.conv_0 = BayesConv2d(weight_distribution, bias_distribution, \n",
    "                                  in_channels=1, out_channels=64, kernel_size=3)\n",
    "        self.conv_1 = BayesConv2d(weight_distribution, bias_distribution, \n",
    "                                  in_channels=64, out_channels=64, kernel_size=3)\n",
    "        self.relu = nn.ReLU()\n",
    "        self.pooling = nn.MaxPool2d(kernel_size=2)\n",
    "        self.fc = BayesLinear(weight_distribution, bias_distribution, in_features=1600, out_features=10)\n",
    "        self._weight_distribution = weight_distribution\n",
    "        self._bias_distribution = bias_distribution\n",
    "        \n",
    "    def weight_distribution(self):\n",
    "        return self._weight_distribution\n",
    "    \n",
    "    def bias_distribution(self):\n",
    "        return self._bias_distribution\n",
    "    \n",
    "    def weight(self):\n",
    "        return self.weight\n",
    "        \n",
    "    def log_prior(self):\n",
    "        log_p = 0\n",
    "        for m in self.modules():\n",
    "            if isinstance(m, (BayesLinear, BayesConv2d)):\n",
    "                log_p += m.log_prior()\n",
    "                \n",
    "        return log_p\n",
    "\n",
    "    def forward(self, x):\n",
    "        x = self.relu(self.conv_0(x))\n",
    "        x = self.pooling(x)\n",
    "        x = self.relu(self.conv_1(x))\n",
    "        x = self.pooling(x)\n",
    "        x = x.view(-1, 1600)\n",
    "        x = self.fc(x)\n",
    "        return x"
   ]
  },
  {
   "cell_type": "code",
   "execution_count": 4,
   "id": "48001054",
   "metadata": {},
   "outputs": [],
   "source": [
    "mdl = NormalModel(weight_distribution = distr,\n",
    "                 bias_distribution = distr)"
   ]
  },
  {
   "cell_type": "markdown",
   "id": "c754c3f4",
   "metadata": {},
   "source": [
    "## Dataset"
   ]
  },
  {
   "cell_type": "code",
   "execution_count": 5,
   "id": "fc2a8576",
   "metadata": {},
   "outputs": [],
   "source": [
    "dataset = torchvision.datasets.MNIST('./files/', train=True, download=True,\n",
    "                             transform=torchvision.transforms.Compose([\n",
    "                               torchvision.transforms.ToTensor(),\n",
    "                               torchvision.transforms.Normalize(\n",
    "                                 (0.1307,), (0.3081,))\n",
    "                             ]))\n",
    "train_set, val_set = torch.utils.data.random_split(dataset, [50000, 10000])"
   ]
  },
  {
   "cell_type": "code",
   "execution_count": 6,
   "id": "2f7aae88",
   "metadata": {},
   "outputs": [
    {
     "data": {
      "text/plain": [
       "torch.Size([1, 28, 28])"
      ]
     },
     "execution_count": 6,
     "metadata": {},
     "output_type": "execute_result"
    }
   ],
   "source": [
    "dataset[0][0].shape"
   ]
  },
  {
   "cell_type": "markdown",
   "id": "bd87af27",
   "metadata": {},
   "source": [
    "## Train"
   ]
  },
  {
   "cell_type": "markdown",
   "id": "9cfd6a53",
   "metadata": {},
   "source": [
    "### Multivariate Normal (0, I)"
   ]
  },
  {
   "cell_type": "code",
   "execution_count": 7,
   "id": "0b5d2777",
   "metadata": {},
   "outputs": [],
   "source": [
    "temperature = 1\n",
    "trainer = BayesModel(train_dataset=train_set,\n",
    "                    test_dataset=val_set,\n",
    "                    batch_size=128,\n",
    "                    architecture=mdl,\n",
    "                    lr=1e-3,\n",
    "                    temperature=temperature)"
   ]
  },
  {
   "cell_type": "code",
   "execution_count": 8,
   "id": "9a0672c9",
   "metadata": {},
   "outputs": [
    {
     "name": "stderr",
     "output_type": "stream",
     "text": [
      "100%|█████████████████████████████████████████████| 1/1 [00:16<00:00, 16.84s/it]\n"
     ]
    }
   ],
   "source": [
    "trainer.fit(n_epochs = 1)"
   ]
  },
  {
   "cell_type": "code",
   "execution_count": 9,
   "id": "1814a77f",
   "metadata": {},
   "outputs": [
    {
     "name": "stdout",
     "output_type": "stream",
     "text": [
      "Temperature:  1 \n",
      " Accuracy:  tensor(0.8458, device='cuda:0')\n"
     ]
    }
   ],
   "source": [
    "acc = trainer.evaluate()\n",
    "print('Temperature: ', temperature, '\\n Accuracy: ', acc)"
   ]
  },
  {
   "cell_type": "code",
   "execution_count": 52,
   "id": "7a57281f",
   "metadata": {},
   "outputs": [
    {
     "name": "stderr",
     "output_type": "stream",
     "text": [
      "100%|█████████████████████████████████████████████| 1/1 [00:11<00:00, 11.65s/it]\n",
      "100%|█████████████████████████████████████████████| 1/1 [00:13<00:00, 13.22s/it]\n",
      "100%|█████████████████████████████████████████████| 1/1 [00:13<00:00, 13.21s/it]\n",
      "100%|█████████████████████████████████████████████| 1/1 [00:12<00:00, 12.29s/it]\n",
      "100%|█████████████████████████████████████████████| 1/1 [00:12<00:00, 12.24s/it]\n",
      "100%|█████████████████████████████████████████████| 1/1 [00:12<00:00, 12.19s/it]\n",
      "100%|█████████████████████████████████████████████| 1/1 [00:12<00:00, 12.14s/it]\n",
      "100%|█████████████████████████████████████████████| 1/1 [00:11<00:00, 11.55s/it]\n",
      "100%|█████████████████████████████████████████████| 1/1 [00:12<00:00, 12.16s/it]\n",
      "100%|█████████████████████████████████████████████| 1/1 [00:13<00:00, 13.36s/it]\n",
      "100%|█████████████████████████████████████████████| 1/1 [00:13<00:00, 13.14s/it]\n",
      "100%|█████████████████████████████████████████████| 1/1 [00:12<00:00, 12.99s/it]\n",
      "100%|█████████████████████████████████████████████| 1/1 [00:14<00:00, 14.42s/it]\n",
      "100%|█████████████████████████████████████████████| 1/1 [00:12<00:00, 12.31s/it]\n",
      "100%|█████████████████████████████████████████████| 1/1 [00:12<00:00, 12.15s/it]\n",
      "100%|█████████████████████████████████████████████| 1/1 [00:11<00:00, 11.59s/it]\n",
      "100%|█████████████████████████████████████████████| 1/1 [00:12<00:00, 12.30s/it]\n",
      "100%|█████████████████████████████████████████████| 1/1 [00:12<00:00, 12.24s/it]\n",
      "100%|█████████████████████████████████████████████| 1/1 [00:12<00:00, 12.62s/it]\n",
      "100%|█████████████████████████████████████████████| 1/1 [00:12<00:00, 12.31s/it]\n",
      "100%|█████████████████████████████████████████████| 1/1 [00:12<00:00, 12.35s/it]\n",
      "100%|█████████████████████████████████████████████| 1/1 [00:12<00:00, 12.75s/it]\n",
      "100%|█████████████████████████████████████████████| 1/1 [00:11<00:00, 11.76s/it]\n",
      "100%|█████████████████████████████████████████████| 1/1 [00:12<00:00, 12.10s/it]\n",
      "100%|█████████████████████████████████████████████| 1/1 [00:14<00:00, 14.30s/it]\n",
      "100%|█████████████████████████████████████████████| 1/1 [00:12<00:00, 12.45s/it]\n",
      "100%|█████████████████████████████████████████████| 1/1 [00:12<00:00, 12.32s/it]\n",
      "100%|█████████████████████████████████████████████| 1/1 [00:12<00:00, 12.31s/it]\n",
      "100%|█████████████████████████████████████████████| 1/1 [00:12<00:00, 12.36s/it]\n",
      "100%|█████████████████████████████████████████████| 1/1 [00:12<00:00, 12.37s/it]\n"
     ]
    }
   ],
   "source": [
    "errors = np.zeros(6)\n",
    "temperatures = [1, 5e-1, 1e-1, 5e-2, 1e-2, 1e-3]\n",
    "distr = Normal(torch.tensor(-0.01), torch.tensor(0.05))\n",
    "for n in range(5):\n",
    "    for i in range(6):\n",
    "        temperature = temperatures[i]\n",
    "        mdl = NormalModel(weight_distribution = distr,\n",
    "                        bias_distribution = distr)\n",
    "        trainer = BayesModel(train_dataset=train_set,\n",
    "                        test_dataset=val_set,\n",
    "                        batch_size=128,\n",
    "                        architecture=mdl,\n",
    "                        lr=1e-3,\n",
    "                        temperature=temperature)\n",
    "        trainer.fit(n_epochs = 1)\n",
    "        acc = trainer.evaluate()\n",
    "        errors[i] += 1 - acc.detach().cpu()\n",
    "errors = errors / 5"
   ]
  },
  {
   "cell_type": "code",
   "execution_count": 53,
   "id": "7e3bba6d",
   "metadata": {},
   "outputs": [
    {
     "name": "stderr",
     "output_type": "stream",
     "text": [
      "100%|█████████████████████████████████████████████| 1/1 [00:12<00:00, 12.72s/it]\n",
      "100%|█████████████████████████████████████████████| 1/1 [00:12<00:00, 12.64s/it]\n",
      "100%|█████████████████████████████████████████████| 1/1 [00:12<00:00, 12.06s/it]\n",
      "100%|█████████████████████████████████████████████| 1/1 [00:11<00:00, 11.96s/it]\n",
      "100%|█████████████████████████████████████████████| 1/1 [00:11<00:00, 11.82s/it]\n",
      "100%|█████████████████████████████████████████████| 1/1 [00:11<00:00, 11.89s/it]\n",
      "100%|█████████████████████████████████████████████| 1/1 [00:11<00:00, 11.61s/it]\n",
      "100%|█████████████████████████████████████████████| 1/1 [00:12<00:00, 12.39s/it]\n",
      "100%|█████████████████████████████████████████████| 1/1 [00:12<00:00, 12.25s/it]\n",
      "100%|█████████████████████████████████████████████| 1/1 [00:14<00:00, 14.20s/it]\n",
      "100%|█████████████████████████████████████████████| 1/1 [00:12<00:00, 12.49s/it]\n",
      "100%|█████████████████████████████████████████████| 1/1 [00:12<00:00, 12.58s/it]\n",
      "100%|█████████████████████████████████████████████| 1/1 [00:11<00:00, 11.73s/it]\n",
      "100%|█████████████████████████████████████████████| 1/1 [00:12<00:00, 12.29s/it]\n",
      "100%|█████████████████████████████████████████████| 1/1 [00:12<00:00, 12.52s/it]\n",
      "100%|█████████████████████████████████████████████| 1/1 [00:11<00:00, 11.25s/it]\n",
      "100%|█████████████████████████████████████████████| 1/1 [00:11<00:00, 11.90s/it]\n",
      "100%|█████████████████████████████████████████████| 1/1 [00:11<00:00, 11.50s/it]\n",
      "100%|█████████████████████████████████████████████| 1/1 [00:11<00:00, 11.29s/it]\n",
      "100%|█████████████████████████████████████████████| 1/1 [00:12<00:00, 12.08s/it]\n",
      "100%|█████████████████████████████████████████████| 1/1 [00:12<00:00, 12.12s/it]\n",
      "100%|█████████████████████████████████████████████| 1/1 [00:12<00:00, 12.27s/it]\n",
      "100%|█████████████████████████████████████████████| 1/1 [00:11<00:00, 11.28s/it]\n",
      "100%|█████████████████████████████████████████████| 1/1 [00:12<00:00, 12.31s/it]\n",
      "100%|█████████████████████████████████████████████| 1/1 [00:11<00:00, 11.73s/it]\n",
      "100%|█████████████████████████████████████████████| 1/1 [00:10<00:00, 10.90s/it]\n",
      "100%|█████████████████████████████████████████████| 1/1 [00:12<00:00, 12.12s/it]\n",
      "100%|█████████████████████████████████████████████| 1/1 [00:12<00:00, 12.54s/it]\n",
      "100%|█████████████████████████████████████████████| 1/1 [00:12<00:00, 12.44s/it]\n",
      "100%|█████████████████████████████████████████████| 1/1 [00:12<00:00, 12.34s/it]\n"
     ]
    }
   ],
   "source": [
    "laplace_errors = np.zeros(6)\n",
    "temperatures = [1, 5e-1, 1e-1, 5e-2, 1e-2, 1e-3]\n",
    "distr = Laplace(loc = torch.tensor(-0.01), scale = torch.tensor(0.05))\n",
    "for n in range(5):\n",
    "    for i in range(6):\n",
    "        temperature = temperatures[i]\n",
    "        mdl = NormalModel(weight_distribution = distr,\n",
    "                        bias_distribution = distr)\n",
    "        trainer = BayesModel(train_dataset=train_set,\n",
    "                        test_dataset=val_set,\n",
    "                        batch_size=128,\n",
    "                        architecture=mdl,\n",
    "                        lr=1e-3,\n",
    "                        temperature=temperature)\n",
    "        trainer.fit(n_epochs = 1)\n",
    "        acc = trainer.evaluate()\n",
    "        laplace_errors[i] += 1 - acc.detach().cpu()\n",
    "laplace_errors = laplace_errors / 5"
   ]
  },
  {
   "cell_type": "code",
   "execution_count": 55,
   "id": "feb6867e",
   "metadata": {},
   "outputs": [
    {
     "data": {
      "image/png": "[encoded data removed]",
      "text/plain": [
       "<Figure size 640x480 with 1 Axes>"
      ]
     },
     "metadata": {},
     "output_type": "display_data"
    }
   ],
   "source": [
    "plt.plot(temperatures, errors)\n",
    "plt.plot(temperatures, laplace_errors)\n",
    "plt.show()"
   ]
  },
  {
   "cell_type": "code",
   "execution_count": 32,
   "id": "667f7773",
   "metadata": {},
   "outputs": [
    {
     "data": {
      "text/plain": [
       "[1, 0.5, 0.1, 0.05, 0.01, 0.001]"
      ]
     },
     "execution_count": 32,
     "metadata": {},
     "output_type": "execute_result"
    }
   ],
   "source": [
    "temperatures"
   ]
  },
  {
   "cell_type": "code",
   "execution_count": 33,
   "id": "d1747bf2",
   "metadata": {},
   "outputs": [
    {
     "data": {
      "text/plain": [
       "array([0.14709255, 0.14719143, 0.15156248, 0.14922862, 0.15336231,\n",
       "       0.15280854])"
      ]
     },
     "execution_count": 33,
     "metadata": {},
     "output_type": "execute_result"
    }
   ],
   "source": [
    "errors"
   ]
  },
  {
   "cell_type": "code",
   "execution_count": 57,
   "id": "fadb854d",
   "metadata": {},
   "outputs": [
    {
     "name": "stderr",
     "output_type": "stream",
     "text": [
      "100%|█████████████████████████████████████████| 100/100 [17:26<00:00, 10.47s/it]\n"
     ]
    }
   ],
   "source": [
    "temperature = 1\n",
    "mdl = NormalModel(weight_distribution = distr,\n",
    "                bias_distribution = distr)\n",
    "trainer = BayesModel(train_dataset=train_set,\n",
    "                test_dataset=val_set,\n",
    "                batch_size=128,\n",
    "                architecture=mdl,\n",
    "                lr=1e-3,\n",
    "                temperature=temperature)\n",
    "trainer.fit(n_epochs = 100)"
   ]
  },
  {
   "cell_type": "code",
   "execution_count": null,
   "id": "ac286abd",
   "metadata": {},
   "outputs": [],
   "source": []
  }
 ],
 "metadata": {
  "kernelspec": {
   "display_name": "Python 3 (ipykernel)",
   "language": "python",
   "name": "python3"
  },
  "language_info": {
   "codemirror_mode": {
    "name": "ipython",
    "version": 3
   },
   "file_extension": ".py",
   "mimetype": "text/x-python",
   "name": "python",
   "nbconvert_exporter": "python",
   "pygments_lexer": "ipython3",
   "version": "3.9.13"
  },
  "vscode": {
   "interpreter": {
    "hash": "5b0fbc5f22f7071972b866504fce4eb3a150ae9903c6cd85f368e76c2ade1186"
   }
  }
 },
 "nbformat": 4,
 "nbformat_minor": 5
}
