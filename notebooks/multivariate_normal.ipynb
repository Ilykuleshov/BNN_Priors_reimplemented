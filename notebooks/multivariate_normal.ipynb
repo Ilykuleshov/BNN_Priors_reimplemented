{
 "cells": [
  {
   "cell_type": "code",
   "execution_count": 1,
   "id": "83830c3f",
   "metadata": {},
   "outputs": [],
   "source": [
    "import numpy as np\n",
    "\n",
    "import torch\n",
    "import torch.nn as nn\n",
    "import torch.optim as optim\n",
    "import torchvision\n",
    "from matplotlib import pyplot as plt\n",
    "from tqdm import trange\n",
    "from torch.distributions.normal import Normal\n",
    "from bnn import BayesBaseModule, BayesConv2d, BayesLinear, BayesModel"
   ]
  },
  {
   "cell_type": "markdown",
   "id": "9a897215",
   "metadata": {},
   "source": [
    "## Distributions and model"
   ]
  },
  {
   "cell_type": "code",
   "execution_count": 2,
   "id": "7bb7e846",
   "metadata": {},
   "outputs": [],
   "source": [
    "distr = Normal(torch.tensor(0.), torch.tensor(1.))"
   ]
  },
  {
   "cell_type": "code",
   "execution_count": 3,
   "id": "fa7da557",
   "metadata": {},
   "outputs": [],
   "source": [
    "class NormalModel(nn.Module):\n",
    "    def __init__(self, \n",
    "                 weight_distribution,\n",
    "                 bias_distribution):\n",
    "        super().__init__()\n",
    "        self.conv_0 = BayesConv2d(weight_distribution, bias_distribution, \n",
    "                                  in_channels=1, out_channels=64, kernel_size=3)\n",
    "        self.conv_1 = BayesConv2d(weight_distribution, bias_distribution, \n",
    "                                  in_channels=64, out_channels=64, kernel_size=3)\n",
    "        self.relu = nn.ReLU()\n",
    "        self.pooling = nn.MaxPool2d(kernel_size=2)\n",
    "        self.fc = BayesLinear(weight_distribution, bias_distribution, in_features=1600, out_features=10)\n",
    "        self._weight_distribution = weight_distribution\n",
    "        self._bias_distribution = bias_distribution\n",
    "        \n",
    "    def weight_distribution(self):\n",
    "        return self._weight_distribution\n",
    "    \n",
    "    def bias_distribution(self):\n",
    "        return self._bias_distribution\n",
    "    \n",
    "    def weight(self):\n",
    "        return self.weight\n",
    "        \n",
    "    def log_prior(self):\n",
    "        log_p = 0\n",
    "        for m in self.modules():\n",
    "            if isinstance(m, (BayesLinear, BayesConv2d)):\n",
    "                log_p += m.log_prior\n",
    "\n",
    "    def forward(self, x):\n",
    "        x = self.relu(self.conv_0(x))\n",
    "        x = self.pooling(x)\n",
    "        x = self.relu(self.conv_1(x))\n",
    "        x = self.pooling(x)\n",
    "        x = x.view(-1, 1600)\n",
    "        x = self.fc(x)\n",
    "        return x"
   ]
  },
  {
   "cell_type": "code",
   "execution_count": 4,
   "id": "48001054",
   "metadata": {},
   "outputs": [],
   "source": [
    "mdl = NormalModel(weight_distribution = distr,\n",
    "                 bias_distribution = distr)"
   ]
  },
  {
   "cell_type": "markdown",
   "id": "c754c3f4",
   "metadata": {},
   "source": [
    "## Dataset"
   ]
  },
  {
   "cell_type": "code",
   "execution_count": 5,
   "id": "fc2a8576",
   "metadata": {},
   "outputs": [],
   "source": [
    "dataset = torchvision.datasets.MNIST('./files/', train=True, download=True,\n",
    "                             transform=torchvision.transforms.Compose([\n",
    "                               torchvision.transforms.ToTensor(),\n",
    "                               torchvision.transforms.Normalize(\n",
    "                                 (0.1307,), (0.3081,))\n",
    "                             ]))\n",
    "train_set, val_set = torch.utils.data.random_split(dataset, [50000, 10000])"
   ]
  },
  {
   "cell_type": "code",
   "execution_count": 6,
   "id": "2f7aae88",
   "metadata": {},
   "outputs": [
    {
     "data": {
      "text/plain": [
       "torch.Size([1, 28, 28])"
      ]
     },
     "execution_count": 6,
     "metadata": {},
     "output_type": "execute_result"
    }
   ],
   "source": [
    "dataset[0][0].shape"
   ]
  },
  {
   "cell_type": "markdown",
   "id": "bd87af27",
   "metadata": {},
   "source": [
    "## Train"
   ]
  },
  {
   "cell_type": "code",
   "execution_count": 7,
   "id": "0b5d2777",
   "metadata": {},
   "outputs": [],
   "source": [
    "trainer = BayesModel(train_dataset=train_set,\n",
    "                    test_dataset=val_set,\n",
    "                    batch_size=128,\n",
    "                    architecture=mdl,\n",
    "                    lr=1e-3)"
   ]
  },
  {
   "cell_type": "code",
   "execution_count": 8,
   "id": "9a0672c9",
   "metadata": {},
   "outputs": [
    {
     "name": "stderr",
     "output_type": "stream",
     "text": [
      "  0%|          | 0/30 [00:00<?, ?it/s]"
     ]
    }
   ],
   "source": [
    "trainer.fit(n_epochs = 30)"
   ]
  }
 ],
 "metadata": {
  "kernelspec": {
   "display_name": "base",
   "language": "python",
   "name": "python3"
  },
  "language_info": {
   "codemirror_mode": {
    "name": "ipython",
    "version": 3
   },
   "file_extension": ".py",
   "mimetype": "text/x-python",
   "name": "python",
   "nbconvert_exporter": "python",
   "pygments_lexer": "ipython3",
   "version": "3.9.12"
  },
  "vscode": {
   "interpreter": {
    "hash": "5b0fbc5f22f7071972b866504fce4eb3a150ae9903c6cd85f368e76c2ade1186"
   }
  }
 },
 "nbformat": 4,
 "nbformat_minor": 5
}
