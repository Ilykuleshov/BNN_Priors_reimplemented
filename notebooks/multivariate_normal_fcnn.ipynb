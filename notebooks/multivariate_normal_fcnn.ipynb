{
 "cells": [
  {
   "cell_type": "code",
   "execution_count": 1,
   "id": "d7466234",
   "metadata": {},
   "outputs": [
    {
     "name": "stdout",
     "output_type": "stream",
     "text": [
      "env: CUDA_VISIBLE_DEVICES=1\n"
     ]
    }
   ],
   "source": [
    "%env CUDA_VISIBLE_DEVICES=1"
   ]
  },
  {
   "cell_type": "code",
   "execution_count": 8,
   "id": "4af6efd8",
   "metadata": {},
   "outputs": [],
   "source": [
    "import numpy as np\n",
    "\n",
    "import torch\n",
    "import torch.nn as nn\n",
    "import torch.optim as optim\n",
    "import torchvision\n",
    "from matplotlib import pyplot as plt\n",
    "from tqdm import trange\n",
    "from torch.distributions.normal import Normal\n",
    "from bnn import BayesBaseModule, BayesConv2d, BayesLinear, BayesModel, FCNN\n",
    "from torch.distributions.laplace import Laplace\n",
    "from pathlib import Path"
   ]
  },
  {
   "cell_type": "code",
   "execution_count": 3,
   "id": "cefb8e1c",
   "metadata": {},
   "outputs": [],
   "source": [
    "distr = Normal(torch.tensor(0.), torch.tensor(0.05))"
   ]
  },
  {
   "cell_type": "code",
   "execution_count": 4,
   "id": "aa84c110",
   "metadata": {},
   "outputs": [],
   "source": [
    "mdl = FCNN(weight_distribution = distr,\n",
    "                 bias_distribution = distr)"
   ]
  },
  {
   "cell_type": "code",
   "execution_count": 5,
   "id": "e146f895",
   "metadata": {},
   "outputs": [],
   "source": [
    "dataset = torchvision.datasets.MNIST('./files/', train=True, download=True,\n",
    "                             transform=torchvision.transforms.Compose([\n",
    "                               torchvision.transforms.ToTensor(),\n",
    "                               torchvision.transforms.Normalize(\n",
    "                                 (0.1307,), (0.3081,))\n",
    "                             ]))\n",
    "train_set, val_set = torch.utils.data.random_split(dataset, [50000, 10000])"
   ]
  },
  {
   "cell_type": "markdown",
   "id": "fee9c032",
   "metadata": {},
   "source": [
    "## Train"
   ]
  },
  {
   "cell_type": "code",
   "execution_count": 10,
   "id": "a78c4c9b",
   "metadata": {},
   "outputs": [
    {
     "name": "stderr",
     "output_type": "stream",
     "text": [
      "100%|█████████████████████████████████████████| 100/100 [16:41<00:00, 10.01s/it]\n",
      "100%|█████████████████████████████████████████| 100/100 [17:06<00:00, 10.27s/it]\n",
      "100%|█████████████████████████████████████████| 100/100 [18:37<00:00, 11.17s/it]\n",
      "100%|█████████████████████████████████████████| 100/100 [18:47<00:00, 11.27s/it]\n",
      "100%|█████████████████████████████████████████| 100/100 [19:16<00:00, 11.57s/it]\n",
      "100%|█████████████████████████████████████████| 100/100 [18:52<00:00, 11.33s/it]\n"
     ]
    }
   ],
   "source": [
    "temperatures = [1, 5e-1, 1e-1, 5e-2, 1e-2, 5e-3, 1e-3]\n",
    "errors = np.zeros(len(temperatures))\n",
    "distr = Normal(torch.tensor(0.), torch.tensor(0.05))\n",
    "n_epochs = 100\n",
    "\n",
    "for i, temperature in enumerate(temperatures[1:]):\n",
    "    mdl = FCNN(weight_distribution = distr, bias_distribution = distr)\n",
    "    trainer = BayesModel(train_dataset=train_set,\n",
    "                    test_dataset=val_set,\n",
    "                    batch_size=128,\n",
    "                    architecture=mdl,\n",
    "                    lr=1e-3,\n",
    "                    temperature=temperature)\n",
    "    trainer.fit(n_epochs = 100, log_dir='./runs/fcnn_normal_{temp:.3f}'.format(temp=temperature))\n",
    "    model_save_path = Path('./models/fcnn_normal_{temp:.3f}/'.format(temp=temperature))\n",
    "    model_save_path.mkdir(exist_ok = True, parents = True)\n",
    "    torch.save(trainer.architecture.state_dict(), model_save_path / 'model.pth')"
   ]
  },
  {
   "cell_type": "code",
   "execution_count": null,
   "id": "1dc037ef",
   "metadata": {},
   "outputs": [],
   "source": []
  }
 ],
 "metadata": {
  "kernelspec": {
   "display_name": "Python 3 (ipykernel)",
   "language": "python",
   "name": "python3"
  },
  "language_info": {
   "codemirror_mode": {
    "name": "ipython",
    "version": 3
   },
   "file_extension": ".py",
   "mimetype": "text/x-python",
   "name": "python",
   "nbconvert_exporter": "python",
   "pygments_lexer": "ipython3",
   "version": "3.9.13"
  }
 },
 "nbformat": 4,
 "nbformat_minor": 5
}
